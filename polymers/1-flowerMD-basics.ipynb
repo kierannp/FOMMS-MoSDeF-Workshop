{
 "cells": [
  {
   "cell_type": "markdown",
   "metadata": {
    "id": "-ZTRdgH6cXbg"
   },
   "source": [
    "# Introduction to basic functionalities of flowerMD"
   ]
  },
  {
   "cell_type": "markdown",
   "metadata": {
    "id": "7psueFSycXbi"
   },
   "source": [
    "## Overview:\n",
    "\n",
    "This tutorial introduces some basic functionalities of the flowerMD package including:\n",
    "\n",
    "- Initializing molecule structures\n",
    "- Assembling molecules in a box\n",
    "- Applying force fields\n",
    "- Running MD simulations using different methods\n",
    "\n"
   ]
  },
  {
   "cell_type": "markdown",
   "metadata": {
    "id": "WmbOAobfcXbj"
   },
   "source": [
    "\n",
    "## Step-by-step guide for running MD simulation for a box of  Polyphenylene sulfide (PPS) polymers:\n",
    "In this tutorial, we will run a molecular dynamics simulation of Polyphenylene sulfide (PPS) polymers using the flowerMD package.\n",
    "flowerMD uses the [`HOOMD-blue`](https://hoomd-blue.readthedocs.io/en/v4.1.0/) simulation engine in the background to run different methods of simulation, and utilizes many functionalities from [`mBuild`](https://mbuild.mosdef.org/en/stable/) and [GMSO](https://gmso.mosdef.org/en/stable/) to initialize molecular structures, apply forcefields and prepare the information necessary to run a simulation.\n",
    "\n",
    "In summary, the flowerMD package has three main classes:\n",
    "\n",
    "-  `Molecule`: This class is used to define the structure of a molecule (for example the structure of a polymer built from a monomer). This class allows us to implement recipies for building complex structures.\n",
    "\n",
    "- `System`: This class is used to assemble molecules into a box and to capture the initial `gsd` snapshot of the system. It also applies the forcefiled to the system and prepares the required forces for the simulation.\n",
    "\n",
    "- `Simulation`: This class is used to run the simulation using the `HOOMD-blue` simulation engine in the background. The Simulation class provides additional functionalities to run simulations following different processes/methods."
   ]
  },
  {
   "cell_type": "code",
   "execution_count": null,
   "metadata": {
    "colab": {
     "base_uri": "https://localhost:8080/"
    },
    "id": "kOtFlRROdZ8t",
    "outputId": "0b5e7b58-6bb0-446a-fe84-1dfc8b63eb01"
   },
   "outputs": [],
   "source": [
    "!mamba install flowermd"
   ]
  },
  {
   "cell_type": "code",
   "execution_count": null,
   "metadata": {
    "collapsed": false,
    "id": "iRAN9QMtcXbk",
    "jupyter": {
     "outputs_hidden": false
    },
    "pycharm": {
     "is_executing": true
    }
   },
   "outputs": [],
   "source": [
    "import warnings\n",
    "warnings.filterwarnings('ignore')"
   ]
  },
  {
   "cell_type": "code",
   "execution_count": null,
   "metadata": {
    "colab": {
     "base_uri": "https://localhost:8080/"
    },
    "id": "BJe6yC00cXbk",
    "outputId": "d7fea6ae-20da-4b84-e292-ff288f804a41",
    "pycharm": {
     "is_executing": true
    }
   },
   "outputs": [],
   "source": [
    "import flowermd"
   ]
  },
  {
   "cell_type": "markdown",
   "metadata": {
    "id": "9h0tgP9ncXbk"
   },
   "source": [
    "### Step 1: Initializing the Molecule\n",
    "In this example, we are using the pre-defined recipe for building PPS molecules defined in flowerMD's library. The `PPS` class is a subclass of the `Molecule` class. This class includes all the necessary information for building the PPS chains, including the monomer structure and how the monomers bond to create a chain. All we need to specify is the polymer chain length and how many polymer chains we want to create. In this example, we will create a system of 10 PPS chains with a length of 8."
   ]
  },
  {
   "cell_type": "code",
   "execution_count": null,
   "metadata": {
    "colab": {
     "base_uri": "https://localhost:8080/"
    },
    "id": "BWmsPDl1cXbk",
    "outputId": "268063a3-35c2-4eb7-d8aa-bd815467c9a7",
    "pycharm": {
     "is_executing": true
    }
   },
   "outputs": [],
   "source": [
    "from flowermd.library import PPS\n",
    "\n",
    "molecules = PPS(num_mols=10, lengths=8)"
   ]
  },
  {
   "cell_type": "markdown",
   "metadata": {
    "id": "WRhuFGgRcXbl"
   },
   "source": [
    "### Step 2: Initializing the System\n",
    "In this step, we will use the `Pack` class, which is a subclass of the `System` class, to pack a box of PPS molecules in a random fashion at a given density (density unit is $g/cm^3$). The `System` class creates the box, organizes molecules within the box, applies the forcefield (if provided) to the system and creates\n",
    "the initial state of the system in form of a HOOMD snapshot.\n",
    "The `apply_forcefield` method in `System`, applies the forcefield (works only for XML-based forcefields) to the system and generates the list of HOOMD force objects defining bonded and non-bonded interactions.\n",
    "\n",
    "Alternatively, users can initiate their own custom list of HOOMD force objects. In such cases, there is no need to call `apply_forcefield` method or specify the `force_field` parameter during system setup. Instead, a list of `hoomd.md.force.Force` objects are passed directly to the `Simulation` class in the subsequent step. This approach allows for a greater flexibility in customizing the force interactions within the simulation, especially in cases where XML-based forcefields are not available. For more examples, see [the coarse graining tutorial](3-coarse-graining.ipynb)."
   ]
  },
  {
   "cell_type": "markdown",
   "metadata": {
    "id": "EF000h_VcXbl"
   },
   "source": [
    "#### Step 2.1: Creating the box and placing molecules"
   ]
  },
  {
   "cell_type": "markdown",
   "metadata": {
    "id": "7bxD30MEcXbl"
   },
   "source": [
    "In this example, the `Pack` class invokes mBuild's `fill_box` method in the background, which efficiently places molecules within a box in a randomized manner without overlaps. This method uses [PACKMOL](https://m3g.github.io/packmol/) to fill the box."
   ]
  },
  {
   "cell_type": "markdown",
   "metadata": {
    "id": "TlxdvGbIcXbl"
   },
   "source": [
    "**A note on `density` and `packing_expand_factor` parameters:**\n",
    "\n",
    "Given a density in $\\dfrac{g}{cm^3}$, the system class calculates a box length that corresponds to the specified density. We refer to calculated length as `target_box`. The `packing_expand_factor` multiplies this calulated box length by a factor and initializes the system based on the expanded box length. The reason for this expansion is that sometimes `PACKMOL` might fail to arrange molecules if the box size is too small. To address this, we suggest initially using an expand factor (default is 5) to initiate the system. Afterward, once the simulation object is created, we can shrink the simulation box to the desired target density.\n",
    "\n",
    "The `density` parameter in the `Pack` class assumes $\\dfrac{g}{cm^3}$ by default. It can work with other units, or even other kinds of density (e.g. number density instead of mass density). `flowerMD` uses the [unyt](https://github.com/yt-project/unyt). package for handling different kinds of units."
   ]
  },
  {
   "cell_type": "code",
   "execution_count": null,
   "metadata": {
    "colab": {
     "base_uri": "https://localhost:8080/"
    },
    "id": "DObHlUVAcXbl",
    "outputId": "65611274-c431-4b89-ea56-6dfbd54e53d7"
   },
   "outputs": [],
   "source": [
    "from flowermd.base import Pack\n",
    "system = Pack(molecules=molecules, density=0.5, packing_expand_factor=5)"
   ]
  },
  {
   "cell_type": "markdown",
   "metadata": {
    "id": "QE2nmrsdcXbl"
   },
   "source": [
    "#### Step 2.2: Applying Forcefield"
   ]
  },
  {
   "cell_type": "markdown",
   "metadata": {
    "id": "xMW1CZNwcXbl"
   },
   "source": [
    "Now that the molecules are packed in the box, we can apply the forcefield and parameterize particle interactions.\n",
    "We use the pre-defined `OPLS` forcefield class, which was created from the [OPLS](https://en.wikipedia.org/wiki/OPLS) XML forcefield, to parameterize particle interactions.\n",
    "\n",
    "The flowerMD library offers some commonly used forcefields that can be employed to parameterize the interactions within specific systems. Please refer to [flowerMD's documentation](https://flowermd.readthedocs.io/en/latest/forcefields.html) for more examples.\n"
   ]
  },
  {
   "cell_type": "markdown",
   "metadata": {
    "id": "ybt4Pr9ocXbl"
   },
   "source": [
    "We also specify the `r_cut` parameter, which is the cutoff distance for the non-bonded interactions. If `auto_scale` is set to `True`, all the parameters defined in forces will be scaled. For example, all the `epsilon` values of Leonard-Jones potentials are scaled based on the maximum `epsilon` value. Also, `scale_charges=True` will make the system charge neutral."
   ]
  },
  {
   "cell_type": "code",
   "execution_count": null,
   "metadata": {
    "colab": {
     "base_uri": "https://localhost:8080/"
    },
    "id": "RTF54iBicXbm",
    "outputId": "ee8e65ec-c95d-49f8-86d7-f22a0d1caf68",
    "pycharm": {
     "is_executing": true
    }
   },
   "outputs": [],
   "source": [
    "from flowermd.library import OPLS_AA_PPS\n",
    "\n",
    "system.apply_forcefield(r_cut=2.5, force_field=OPLS_AA_PPS(), auto_scale=True, scale_charges=True)"
   ]
  },
  {
   "cell_type": "markdown",
   "metadata": {
    "id": "OheY47WecXbm"
   },
   "source": [
    "The initial snapshot can be acquired from the `system.hoomd_snapshot` object.\n"
   ]
  },
  {
   "cell_type": "code",
   "execution_count": null,
   "metadata": {
    "colab": {
     "base_uri": "https://localhost:8080/"
    },
    "id": "Ow9kurH0cXbm",
    "outputId": "97be773c-cef8-4aed-9ef3-bbebfde5fe23",
    "pycharm": {
     "is_executing": true
    }
   },
   "outputs": [],
   "source": [
    "system.hoomd_snapshot"
   ]
  },
  {
   "cell_type": "markdown",
   "metadata": {
    "id": "TBObiO95cXbm"
   },
   "source": [
    "The list of HOOMD force objects applied to the system can also be obtained by accessing the `system.hoomd_forcefield` attribute. These forces correspond to the bonded and non-bonded interactions parameterized from the `OPLS` forcefield."
   ]
  },
  {
   "cell_type": "code",
   "execution_count": null,
   "metadata": {
    "colab": {
     "base_uri": "https://localhost:8080/"
    },
    "id": "VoITWiSacXbm",
    "outputId": "f6ad1e30-8836-422b-b76a-cef1828d1643",
    "pycharm": {
     "is_executing": true
    }
   },
   "outputs": [],
   "source": [
    "hoomd_forces = system.hoomd_forcefield\n",
    "hoomd_forces"
   ]
  },
  {
   "cell_type": "markdown",
   "metadata": {
    "id": "QuahV0QGcXbm"
   },
   "source": [
    "Now, let's examine the parameters of the LJ pair force. As you can see, the values of `epsilon` have been scaled to fall within the range of  0 to 1. The scaling factor for the `epsilon` parameter, which is expressed in units of energy, can be retrieved  from `system.reference_energy`."
   ]
  },
  {
   "cell_type": "code",
   "execution_count": null,
   "metadata": {
    "colab": {
     "base_uri": "https://localhost:8080/"
    },
    "id": "Aee28R9CcXbm",
    "outputId": "f4fdc243-b1fd-4f89-e5c6-a8f5926e1547"
   },
   "outputs": [],
   "source": [
    "lj_force = hoomd_forces[3]\n",
    "\n",
    "dict(lj_force.params)"
   ]
  },
  {
   "cell_type": "markdown",
   "metadata": {
    "id": "WMY9cGzocXbn"
   },
   "source": [
    "### Step 3: Running the Simulation\n",
    "\n",
    "Using the snapshot and force objects provided by the `System` class in the previous step, we can proceed to initialize the simulation. The `Simulation` class, a subclass of `hoomd.Simulation`, offers additional features and functionalities that automate simulation methods, such as updating box volume, welding process and tensile tests."
   ]
  },
  {
   "cell_type": "markdown",
   "metadata": {
    "id": "w2sHvqGFcXbn"
   },
   "source": [
    "**A note about Logging**\n",
    "\n",
    "In addition, the Simulation class provides the functionality to log snapshots of the simulation as a `gsd` trajectory file while the simulation is running. The frequency of saving these snapshots into the gsd file is controlled by the `gsd_write_freq` parameter. Furthermore, the path and name of the trajectory file is specified using the `gsd_file_name` parameter, with the default being \"trajectory.gsd\".\n",
    "\n",
    "The simulation objects automatically log various simulation data, including timestep, potential energy, kinetic temperature, pressure, and volume. These data are saved in a text file, and you can specify the name of this file using the `log_file_name` parameter (the default is sim_data.txt). The frequency at which this data is logged can be set using the `log_write_freq` parameter. These features allow for the efficient monitoring and analysis of simulation progress and results."
   ]
  },
  {
   "cell_type": "code",
   "execution_count": null,
   "metadata": {
    "colab": {
     "base_uri": "https://localhost:8080/"
    },
    "id": "-lAVWq98cXbn",
    "outputId": "30064d5b-bb02-4d47-e81d-cf023b79bc8d"
   },
   "outputs": [],
   "source": [
    "from flowermd.base import Simulation\n",
    "\n",
    "sim = Simulation.from_system(system=system, gsd_write_freq=100, log_write_freq=100)"
   ]
  },
  {
   "cell_type": "markdown",
   "metadata": {
    "id": "QnCXlbm4cXbn"
   },
   "source": [
    "We can access simulation box length and shrink the volume to reach the **desired density** specified in the system.\n",
    "\n",
    "`flowermd.utils` has helper functions for finding the box size that corresponds to a desired density. We can use this to get target box\n",
    "lengths to use in a short shrink simulation.\n",
    "\n",
    "`get_target_box_mass_density` returns the box lengths in units of $cm$ since the density is given in $\\dfrac{g}{cm^3}$.\n",
    "This is okay, and we can pass this box directly to the `sim.run_update_volume`. The simulation class will handle any needed conversions."
   ]
  },
  {
   "cell_type": "code",
   "execution_count": null,
   "metadata": {
    "colab": {
     "base_uri": "https://localhost:8080/"
    },
    "id": "_iyTHOzJcXbn",
    "outputId": "e90469f6-c3c5-4f02-88ec-8d693035097d"
   },
   "outputs": [],
   "source": [
    "from flowermd.utils import get_target_box_mass_density\n",
    "\n",
    "target_box = get_target_box_mass_density(density=system.density, mass=system.mass.to(\"g\"))\n",
    "print(target_box)"
   ]
  },
  {
   "cell_type": "markdown",
   "metadata": {
    "id": "5vGuWmmRcXbn"
   },
   "source": [
    "We can use the `density` proprety of the `Simulation` class to see the current density of the system.\n",
    "Here, before running a shrink simulation, we can see the density is much lower than our target density of $0.5 \\dfrac{g}{cm^3}$.\n",
    "We will call `run_update_volume`, pass in `target_box` and check the density of the simulation afterward. It should match the target density."
   ]
  },
  {
   "cell_type": "code",
   "execution_count": null,
   "metadata": {
    "colab": {
     "base_uri": "https://localhost:8080/"
    },
    "id": "N4oNTcrzcXbn",
    "outputId": "1e29ca52-521c-4de0-8bc0-14edd8542232"
   },
   "outputs": [],
   "source": [
    "sim.density.to(\"g/cm**3\")"
   ]
  },
  {
   "cell_type": "code",
   "execution_count": null,
   "metadata": {
    "colab": {
     "base_uri": "https://localhost:8080/"
    },
    "id": "L2SZkT9CcXbn",
    "outputId": "c4405856-1a13-4651-9d81-887584046147"
   },
   "outputs": [],
   "source": [
    "sim.run_update_volume(n_steps=1000, period=1, kT=1, tau_kt=1, final_box_lengths=target_box)"
   ]
  },
  {
   "cell_type": "code",
   "execution_count": null,
   "metadata": {
    "colab": {
     "base_uri": "https://localhost:8080/"
    },
    "id": "zldZUvUBcXbo",
    "outputId": "0889b141-2ed7-4e01-ffa4-5b246f8f5cfa"
   },
   "outputs": [],
   "source": [
    "sim.density.to(\"g/cm**3\")"
   ]
  },
  {
   "cell_type": "markdown",
   "metadata": {
    "id": "q6T-TU51cXbo"
   },
   "source": [
    "Visualizing the first and last frame of the saved trajectory shows the effect of shrinking on box size."
   ]
  },
  {
   "cell_type": "code",
   "execution_count": null,
   "metadata": {
    "colab": {
     "base_uri": "https://localhost:8080/"
    },
    "id": "J92FfgIfcXbo",
    "outputId": "c84f3416-49a8-4d1d-9774-cb2ecbd10da5"
   },
   "outputs": [],
   "source": [
    "import hoomd\n",
    "for writer in sim.operations.writers:\n",
    "    if isinstance(writer, hoomd.write.GSD):\n",
    "        writer.flush()"
   ]
  },
  {
   "cell_type": "code",
   "execution_count": null,
   "metadata": {
    "colab": {
     "base_uri": "https://localhost:8080/",
     "height": 374
    },
    "id": "s19eJBfvcXbo",
    "outputId": "a10fec1d-5f42-4b16-e8ca-2d6211d26a86"
   },
   "outputs": [],
   "source": [
    "from cmeutils.visualize import FresnelGSD\n",
    "\n",
    "sim_visualizer = FresnelGSD(gsd_file=\"trajectory.gsd\", frame=0, view_axis=(1, 1, 1))\n",
    "sim_visualizer.view()\n"
   ]
  },
  {
   "cell_type": "markdown",
   "metadata": {
    "id": "hsEB-bi2cXbo"
   },
   "source": [
    "last frame:"
   ]
  },
  {
   "cell_type": "code",
   "execution_count": null,
   "metadata": {
    "colab": {
     "base_uri": "https://localhost:8080/",
     "height": 374
    },
    "id": "InIZ1MnpcXbo",
    "outputId": "38f28a17-e9ad-4bb7-8359-1ee0f86b23f4"
   },
   "outputs": [],
   "source": [
    "sim_visualizer.frame = -1\n",
    "sim_visualizer.view()"
   ]
  },
  {
   "cell_type": "markdown",
   "metadata": {
    "id": "Ft4Avuw9cXbo"
   },
   "source": [
    "Let's run the simulation for 1000 time steps using the NVT ensemble at a scaled temperature of 1.0. The default thermostat in flowerMD simulations is Nosé-Hoover thermostat. Users can modify the thermostat by specifying the `thermostat` parameter during the initialization of the simulation object. Users can select from a range of available thermostats, which are defined in  [`flowermd.utils.base_types.HOOMDThermostats`](https://github.com/cmelab/flowerMD/blob/main/flowermd/utils/base_types.py). For more detailed information about thermostats please refer to [HOOMD Blue documentation](https://hoomd-blue.readthedocs.io/en/stable/module-md-methods-thermostats.html)."
   ]
  },
  {
   "cell_type": "code",
   "execution_count": null,
   "metadata": {
    "colab": {
     "base_uri": "https://localhost:8080/"
    },
    "id": "W8i7iuYAcXbo",
    "outputId": "9d9c1b73-cde5-4f5b-ea86-b1d0a4fa97dc"
   },
   "outputs": [],
   "source": [
    "sim.run_NVT(n_steps=2000, kT=1.0, tau_kt=0.01)"
   ]
  },
  {
   "cell_type": "code",
   "execution_count": null,
   "metadata": {
    "colab": {
     "base_uri": "https://localhost:8080/"
    },
    "id": "QH3e27z4cXbo",
    "outputId": "55e43ef1-40f1-4a28-9992-fd54ce274a4a"
   },
   "outputs": [],
   "source": [
    "for writer in sim.operations.writers:\n",
    "    if isinstance(writer, hoomd.write.GSD):\n",
    "        writer.flush()"
   ]
  },
  {
   "cell_type": "code",
   "execution_count": null,
   "metadata": {
    "colab": {
     "base_uri": "https://localhost:8080/",
     "height": 374
    },
    "id": "MbXEznrGcXbo",
    "outputId": "87f08d53-3102-4c3f-e0ae-ffd2ce1e338d"
   },
   "outputs": [],
   "source": [
    "sim_visualizer.frame=-1\n",
    "sim_visualizer.view()"
   ]
  },
  {
   "cell_type": "markdown",
   "metadata": {
    "id": "9vDWf1vxcXbp"
   },
   "source": [
    "The simulation class also allows users to run the simulation under different conditions/ensembles such as NPT ensemble, NVE ensemble and Langevin dynamics. Check out [flowerMD's documentation](https://flowermd.readthedocs.io/en/latest/simulation.html) for more functionalities."
   ]
  },
  {
   "cell_type": "markdown",
   "metadata": {
    "id": "AvTTPofqcXbp"
   },
   "source": [
    "\n",
    "In the upcoming tutorials, we will explore a selection of features offered by the flowerMD package, highlighting how they can be customized to meet specific research requirements."
   ]
  },
  {
   "cell_type": "code",
   "execution_count": null,
   "metadata": {
    "colab": {
     "base_uri": "https://localhost:8080/"
    },
    "id": "pN1xr6fJd0XE",
    "outputId": "a38fc5d7-a014-4949-9f37-1d92676c804a"
   },
   "outputs": [],
   "source": []
  }
 ],
 "metadata": {
  "colab": {
   "provenance": []
  },
  "kernelspec": {
   "display_name": "Python 3 (ipykernel)",
   "language": "python",
   "name": "python3"
  },
  "language_info": {
   "codemirror_mode": {
    "name": "ipython",
    "version": 3
   },
   "file_extension": ".py",
   "mimetype": "text/x-python",
   "name": "python",
   "nbconvert_exporter": "python",
   "pygments_lexer": "ipython3",
   "version": "3.11.0"
  }
 },
 "nbformat": 4,
 "nbformat_minor": 4
}
