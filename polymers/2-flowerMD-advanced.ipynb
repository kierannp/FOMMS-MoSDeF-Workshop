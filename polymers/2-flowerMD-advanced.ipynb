{
  "cells": [
    {
      "cell_type": "markdown",
      "metadata": {
        "collapsed": false,
        "jupyter": {
          "outputs_hidden": false
        },
        "id": "f3jiIq5GhYjO"
      },
      "source": [
        "# Additional features and functionalities of flowerMD"
      ]
    },
    {
      "cell_type": "markdown",
      "metadata": {
        "collapsed": false,
        "jupyter": {
          "outputs_hidden": false
        },
        "id": "Ubo4jtXZhYjP"
      },
      "source": [
        "## Overview:\n",
        "In this tutorial, we present additional features and functionalities within flowerMD, empowering users to customize their simulations according to their specific requirements. We will cover the following topics for flowerMD  modules:\n",
        "\n",
        "**1) Molecule**\n",
        "\n",
        "- Custom Molecule definition\n",
        "- Polymer and CoPolymer Builders\n",
        "  \n",
        "**2) ForceField**\n",
        "\n",
        "- Custom ForceFields (XML-based)\n",
        "- Custom HOOMD Forces\n",
        "\n",
        "**3) System**\n",
        "   \n",
        "- Custom assembly algorithms\n",
        "- Mixture of molecules\n",
        "- Reference values (auto scaling)\n",
        "\n",
        "**4) Simulation**\n",
        "- Simulation methods\n",
        "- Resuming a simulation\n",
        "\n"
      ]
    },
    {
      "cell_type": "markdown",
      "metadata": {
        "id": "wqNaD2vehYjQ"
      },
      "source": [
        "## 1. Molecule"
      ]
    },
    {
      "cell_type": "markdown",
      "metadata": {
        "collapsed": false,
        "jupyter": {
          "outputs_hidden": false
        },
        "id": "FVuhN7tHhYjQ"
      },
      "source": [
        "### Custom Molecule definition"
      ]
    },
    {
      "cell_type": "markdown",
      "metadata": {
        "collapsed": false,
        "jupyter": {
          "outputs_hidden": false
        },
        "id": "94jSCRBHhYjQ"
      },
      "source": [
        "You can define custom molecules in a couple of different ways:\n",
        "\n",
        "1. Define molecules using their [SMILES](https://en.wikipedia.org/wiki/Simplified_molecular-input_line-entry_system) string representation.\n",
        "2. Utilize molecule files in formats such as `.mol` or `.sdf` to specify your custom molecules.\n",
        "3. Create molecules from an [`mBuild`](https://mbuild.mosdef.org/en/stable/) compound or a [`GMSO`](https://gmso.mosdef.org/en/stable/) topology.\n",
        "4. Customize molecules by creating a subclass of the `Molecule` class."
      ]
    },
    {
      "cell_type": "code",
      "source": [
        "!pip install -q condacolab\n",
        "import condacolab\n",
        "condacolab.install()"
      ],
      "metadata": {
        "id": "VukJYbuthaJB"
      },
      "execution_count": null,
      "outputs": []
    },
    {
      "cell_type": "code",
      "execution_count": null,
      "metadata": {
        "collapsed": true,
        "id": "3-XPh5E2hYjQ"
      },
      "outputs": [],
      "source": [
        "!mamba install flowermd"
      ]
    },
    {
      "cell_type": "code",
      "execution_count": null,
      "metadata": {
        "id": "_TB6zX9IhYjR"
      },
      "outputs": [],
      "source": [
        "import warnings\n",
        "warnings.filterwarnings('ignore')"
      ]
    },
    {
      "cell_type": "markdown",
      "metadata": {
        "collapsed": false,
        "jupyter": {
          "outputs_hidden": false
        },
        "id": "8SZRfsyYhYjR"
      },
      "source": [
        "#### Option 1: Using the SMILES string of the molecule"
      ]
    },
    {
      "cell_type": "code",
      "execution_count": null,
      "metadata": {
        "jupyter": {
          "outputs_hidden": false
        },
        "id": "D2UWOaFHhYjR"
      },
      "outputs": [],
      "source": [
        "from flowermd.base import Molecule\n",
        "\n",
        "benzoic_acid_mol = Molecule(num_mols=20, smiles=\"c1cc(C(O)=O)ccc1\")"
      ]
    },
    {
      "cell_type": "markdown",
      "metadata": {
        "collapsed": false,
        "jupyter": {
          "outputs_hidden": false
        },
        "id": "efog78oOhYjR"
      },
      "source": [
        "We can use the `mBuild` visualization function to visualize one of the 20 benzoic acid molecules."
      ]
    },
    {
      "cell_type": "code",
      "execution_count": null,
      "metadata": {
        "jupyter": {
          "outputs_hidden": false
        },
        "id": "RbuIal2shYjR"
      },
      "outputs": [],
      "source": [
        "benzoic_acid_mol.molecules[0].visualize()"
      ]
    },
    {
      "cell_type": "markdown",
      "metadata": {
        "collapsed": false,
        "jupyter": {
          "outputs_hidden": false
        },
        "id": "5kLIsuiShYjS"
      },
      "source": [
        "#### Option 2: Initialize molecule from a file"
      ]
    },
    {
      "cell_type": "code",
      "execution_count": null,
      "metadata": {
        "jupyter": {
          "outputs_hidden": false
        },
        "id": "lLdSAW2ThYjS"
      },
      "outputs": [],
      "source": [
        "!wget https://raw.githubusercontent.com/mosdef-hub/FOMMS-MoSDeF-Workshop/main/polymers/IPH.mol2\n",
        "phenol_mol = Molecule(num_mols=20, file=\"IPH.mol2\")"
      ]
    },
    {
      "cell_type": "code",
      "execution_count": null,
      "metadata": {
        "jupyter": {
          "outputs_hidden": false
        },
        "id": "2VOUovO5hYjS"
      },
      "outputs": [],
      "source": [
        "phenol_mol.molecules[0].visualize()"
      ]
    },
    {
      "cell_type": "markdown",
      "metadata": {
        "collapsed": false,
        "jupyter": {
          "outputs_hidden": false
        },
        "id": "AiavjQmShYjS"
      },
      "source": [
        "#### Option 3: Start molecule from an [`mBuild`](https://mbuild.mosdef.org/en/stable/) compound or a [`GMSO`](https://gmso.mosdef.org/en/stable/) topology"
      ]
    },
    {
      "cell_type": "code",
      "execution_count": null,
      "metadata": {
        "jupyter": {
          "outputs_hidden": false
        },
        "id": "LBwVK0INhYjS"
      },
      "outputs": [],
      "source": [
        "import mbuild as mb\n",
        "\n",
        "mb_compound = mb.load(\"c1ccccc1\", smiles=True)\n",
        "\n",
        "gmso_top = mb_compound.to_gmso()\n",
        "\n",
        "benzene_mol = Molecule(num_mols=20, compound=mb_compound)\n",
        "benzene_mol = Molecule(num_mols=20, compound=gmso_top)\n"
      ]
    },
    {
      "cell_type": "markdown",
      "metadata": {
        "collapsed": false,
        "jupyter": {
          "outputs_hidden": false
        },
        "id": "6GPJuZ1ghYjS"
      },
      "source": [
        "#### Option 4: Define a subclass of the `Molecule` class"
      ]
    },
    {
      "cell_type": "markdown",
      "metadata": {
        "collapsed": false,
        "jupyter": {
          "outputs_hidden": false
        },
        "id": "ljIdRPiYhYjS"
      },
      "source": [
        "Users can extend the molecule class functionalities by creating subclasses of the `Molecule` base class. This can be achieved by overriding the `_generate` method, which is responsible for generating all the molecules in form of [mbuild compounds](https://mbuild.mosdef.org/en/stable/topic_guides/data_structures.html#compound) and appending them to the `self._molecules` list.\n",
        "\n",
        "flowerMD implements two subclasses of the `Molecule` class: `Polymer` and `CoPolymer`. Please see [flowerMD's Molecule documentation](https://flowermd.readthedocs.io/en/latest/molecule.html) for more details."
      ]
    },
    {
      "cell_type": "markdown",
      "metadata": {
        "id": "Ep3O7JPdhYjS"
      },
      "source": [
        "## 2. Forcefields"
      ]
    },
    {
      "cell_type": "markdown",
      "metadata": {
        "id": "Sd4ReoW-hYjS"
      },
      "source": [
        "flowerMD offers a range of predefined forcefield classes that can be used to parameterize a system. Checkout  [flowerMD's library documentation](https://flowermd.readthedocs.io/en/latest/forcefields.html) to see the list of available forcefields.\n",
        "\n",
        "Users can also define their own custom forcefields with the following two options:"
      ]
    },
    {
      "cell_type": "markdown",
      "metadata": {
        "collapsed": false,
        "jupyter": {
          "outputs_hidden": false
        },
        "id": "b1ImNFsuhYjS"
      },
      "source": [
        "### Option 1: XML-based custom forcefields"
      ]
    },
    {
      "cell_type": "markdown",
      "metadata": {
        "collapsed": false,
        "jupyter": {
          "outputs_hidden": false
        },
        "id": "sJ7RAdf-hYjS"
      },
      "source": [
        "Given the path to the XML file of a desired forcefield, users can employ the `FF_from_file` class available in `flowermd.library` to instantiate a forcefield object.\n",
        "\n",
        "*Note*: The XML file should be in the format of [foyer](https://foyer.mosdef.org/en/stable/getting_started/quickstart.html) forcefield files."
      ]
    },
    {
      "cell_type": "code",
      "execution_count": null,
      "metadata": {
        "jupyter": {
          "outputs_hidden": false
        },
        "id": "tSQbO4FKhYjT"
      },
      "outputs": [],
      "source": [
        "from flowermd.library import FF_from_file\n",
        "!wget https://raw.githubusercontent.com/mosdef-hub/FOMMS-MoSDeF-Workshop/main/polymers/benzene_opls.xml\n",
        "benzene_ff = FF_from_file(forcefield_files=\"benzene_opls.xml\")"
      ]
    },
    {
      "cell_type": "markdown",
      "metadata": {
        "collapsed": false,
        "jupyter": {
          "outputs_hidden": false
        },
        "id": "l37PDbaIhYjT"
      },
      "source": [
        "### Option 2: HOOMD Forces custom forcefields\n"
      ]
    },
    {
      "cell_type": "markdown",
      "metadata": {
        "collapsed": false,
        "jupyter": {
          "outputs_hidden": false
        },
        "id": "9q4T0bK5hYjT"
      },
      "source": [
        "Users have the flexibility to directly define their own list of HOOMD force objects tailored to specific simulation requirements rather than initiating it from an XML based forcefield. In such cases, users can specify the forces by creating a subclass of the `flowermd.base.BaseHOOMDForcefield` class. This can be achieved by developing `_create_forcefield` method, which is responsible for generating a list of `hoomd.md.force` objects. Below is an example of defining `BreadSpring` custom class that creates HOOMD force objects for a system of coarse-grained beads given the parameters for bonded and non-bonded interactions.\n"
      ]
    },
    {
      "cell_type": "code",
      "execution_count": null,
      "metadata": {
        "jupyter": {
          "outputs_hidden": false
        },
        "id": "LlCjgkUphYjT"
      },
      "outputs": [],
      "source": [
        "from flowermd.base import BaseHOOMDForcefield\n",
        "class BeadSpring(BaseHOOMDForcefield):\n",
        "    def __init__(self, r_cut, beads, bonds=None, angles=None, dihedrals=None,exclusions=[\"bond\", \"1-3\"]):\n",
        "        # ...\n",
        "        hoomd_forces = self._create_forcefield()\n",
        "        super(BeadSpring, self).__init__(hoomd_forces)\n",
        "\n",
        "    def _create_forcefield(self):\n",
        "        hoomd_forces = []\n",
        "        # generate hoomd forces for pair interactions, bonds, angles, dihedrals, etc.\n",
        "        # ...\n",
        "        return hoomd_forces\n",
        "\n"
      ]
    },
    {
      "cell_type": "markdown",
      "metadata": {
        "collapsed": false,
        "jupyter": {
          "outputs_hidden": false
        },
        "id": "yHx79RDkhYjT"
      },
      "source": [
        "Please also see [flowerMD's Forcefield documentation](https://flowermd.readthedocs.io/en/latest/forcefields.html) for more examples.\n"
      ]
    },
    {
      "cell_type": "markdown",
      "metadata": {
        "id": "cHVOfHwQhYjT"
      },
      "source": [
        "## 3. System"
      ]
    },
    {
      "cell_type": "markdown",
      "metadata": {
        "collapsed": false,
        "jupyter": {
          "outputs_hidden": false
        },
        "id": "EcgmpQlPhYjT"
      },
      "source": [
        "### Custom system assembly algorithms"
      ]
    },
    {
      "cell_type": "markdown",
      "metadata": {
        "collapsed": false,
        "jupyter": {
          "outputs_hidden": false
        },
        "id": "8HGGhtTFhYjT"
      },
      "source": [
        "The `System` class provides two distinct methods for filling the simulation box: `Pack` and `Lattice`.\n",
        "\n",
        "`Pack` fills the simulation box with molecules in a way that closely packs them, typically in a disordered, random fashion.\n",
        "\n",
        "`Lattice`, on the other hand, fills the simulation box using a well-defined lattice or grid structure. The `x` and `y` parameters specify the distance (in nm) between lattice points in x and y directions respectively. The `n` parameter determines the number of times to repear the unit cell in x and y directions."
      ]
    },
    {
      "cell_type": "code",
      "execution_count": null,
      "metadata": {
        "jupyter": {
          "outputs_hidden": false
        },
        "id": "79Q-nv2ahYjT"
      },
      "outputs": [],
      "source": [
        "# example of defining a system using the Lattice method\n",
        "from flowermd.base import Lattice\n",
        "from flowermd.library import PPS, OPLS_AA_PPS\n",
        "\n",
        "pps = PPS(num_mols=32, lengths=5)\n",
        "\n",
        "lattice = Lattice(molecules=pps, x=1, y=1, n=4)"
      ]
    },
    {
      "cell_type": "code",
      "execution_count": null,
      "metadata": {
        "jupyter": {
          "outputs_hidden": false
        },
        "id": "RrnOQagzhYjT"
      },
      "outputs": [],
      "source": [
        "lattice.system.visualize()"
      ]
    },
    {
      "cell_type": "markdown",
      "metadata": {
        "collapsed": false,
        "jupyter": {
          "outputs_hidden": false
        },
        "id": "Nx3K3iKRhYjU"
      },
      "source": [
        "Note: Both `Pack` and `Lattice` classes are subclasses of the `System` class. The base `System` class is designed as an abstract class, meaning it's not intended to be directly instantiated. Check out `Pack` and `Lattice` [documentation](https://flowermd.readthedocs.io/en/latest/system.html) for more details .\n",
        "\n",
        "If you desire to customize a molecule assembly algorithm that suits your specific requirements, you should create a subclass of the `System` class and override the abstract method `_build_system`. This method is responsible for organizing molecules from the `Molecule` class into a simulation box and returning the resulting mbuild compound.\n",
        "\n"
      ]
    },
    {
      "cell_type": "markdown",
      "metadata": {
        "collapsed": false,
        "jupyter": {
          "outputs_hidden": false
        },
        "id": "geYAtpEAhYjU"
      },
      "source": [
        "### Mixture of molecules"
      ]
    },
    {
      "cell_type": "markdown",
      "metadata": {
        "collapsed": false,
        "jupyter": {
          "outputs_hidden": false
        },
        "id": "WtnEU2SQhYjU"
      },
      "source": [
        "flowerMD allows users to construct a system consisting of a mixture of molecule types, each potentially utilizing different force fields. If all the molecule types within the system share the same forcefield, then you only need to pass the forcefield once."
      ]
    },
    {
      "cell_type": "code",
      "execution_count": null,
      "metadata": {
        "jupyter": {
          "outputs_hidden": false
        },
        "id": "RS5qmhLchYjU"
      },
      "outputs": [],
      "source": [
        "from flowermd.base import Pack\n",
        "from flowermd.library import OPLS_AA_DIMETHYLETHER\n",
        "\n",
        "dimethylether_mol = Molecule(num_mols=20, smiles=\"COC\")\n",
        "pps_mol = PPS(num_mols=10, lengths=4)\n",
        "multi_type_system = Pack( molecules=[dimethylether_mol, pps_mol], density=0.8)\n",
        "multi_type_system.apply_forcefield(r_cut=2.5, force_field=[OPLS_AA_DIMETHYLETHER(), OPLS_AA_PPS()], auto_scale=True)"
      ]
    },
    {
      "cell_type": "code",
      "execution_count": null,
      "metadata": {
        "jupyter": {
          "outputs_hidden": false
        },
        "id": "8XYTqLN5hYjU"
      },
      "outputs": [],
      "source": [
        "multi_type_system.system.visualize()"
      ]
    },
    {
      "cell_type": "markdown",
      "metadata": {
        "id": "_a1ImPHZhYjU"
      },
      "source": [
        "### AutoScale & Reference Values"
      ]
    },
    {
      "cell_type": "markdown",
      "metadata": {
        "id": "kep_TtOphYjU"
      },
      "source": [
        "As mentioned in the previous tutorial, when the `auto_scale` parameter is set to `True` during system building, the parameters of the forcefields will be scaled automatically to range between 0 to 1. The scaling factor for these conversions can be retrieved from `system.reference_values`, which includes scaling factors for energy, length and mass values."
      ]
    },
    {
      "cell_type": "markdown",
      "metadata": {
        "id": "cYfblTWbhYjU"
      },
      "source": [
        "## 4. Simulation"
      ]
    },
    {
      "cell_type": "markdown",
      "metadata": {
        "id": "wAoeitoRhYjV"
      },
      "source": [
        "### Simulation methods"
      ]
    },
    {
      "cell_type": "markdown",
      "metadata": {
        "id": "OYAmq37PhYjV"
      },
      "source": [
        "Simulation methods/functionalities available in flowerMD `Simulation` class:\n",
        "\n",
        "\n",
        "- `adjust_epsilon`: scales or shifts all epsilon values of LJ forces by a specified value.\n",
        "- `adjust_sigma`: scales or shifts all sigma values of LJ forces by a specified value.\n",
        "- `add_walls`, `remove_walls`: TODO\n",
        "- `run_update_volume`: Shrinks or expands the box to a given length.\n",
        "- `run_langevin`: runs simulation with Langevin dynamics.\n",
        "- `run_NPT`: runs simulation with the NPT ensemble.\n",
        "- `run_NVT`: runs simulation with the NVT ensemble.\n",
        "- `run_NVE`: runs simulation with the NVE ensemble.\n",
        "- `run_displacement_cap`: runs NVE simulation with a cap on the maximum distance travelled by particles.\n",
        "- `pickle_forcefield`: create a pickle file to save the force objects. This can be used to recreate a simulation class without the need to initiate `Molecule` and `System` classes.\n",
        "- `save_restart_gsd`: saves a snapshot of the current state of the system. This can be used to recreate a simulation without the need to initiate `Molecule` and `System` classes."
      ]
    },
    {
      "cell_type": "markdown",
      "metadata": {
        "id": "SzGVrTMhhYjV"
      },
      "source": [
        "### Resume a simulation"
      ]
    },
    {
      "cell_type": "markdown",
      "metadata": {
        "id": "aaEVpHsyhYjV"
      },
      "source": [
        "Resuming a simulation in flowerMD is easy, without the need to recreate the `Molecule` and `Simulation` classes. All that's required are two key components: a gsd snapshot of the system and a list of HOOMD force objects.\n",
        "\n",
        "Users can save the snapshot of a simulation's latest state by invoking the `simulation.save_restart_gsd()` method. By default, this snapshot is saved in a file named `restart.gsd`. However, users have the flexibility to specify a different file path by configuring `file_path` parameter.\n",
        "\n",
        "Additionaly, the list of HOOMD force objects can be preserved in a pickled format using `simulation.pickle_forcefield()` method. Pickled list is saved in `forcefield.pickle` by default. The file path can be configured with `file_path` parameter.\n",
        "Please note that the user will need to pass the unpickled list to simulation class in order to recreate the class."
      ]
    },
    {
      "cell_type": "code",
      "execution_count": null,
      "metadata": {
        "id": "ncT8fqxThYjV"
      },
      "outputs": [],
      "source": [
        "from flowermd.base import Molecule, Pack, Simulation\n",
        "from flowermd.library import OPLS_AA\n",
        "import unyt\n",
        "\n",
        "molecule = Molecule(num_mols=30, smiles=\"c1ccccc1\")\n",
        "\n",
        "system = Pack(molecules=molecule, density=0.5 * unyt.g/unyt.cm**3)\n",
        "system.apply_forcefield(r_cut=2.5, force_field=OPLS_AA(), auto_scale=True)\n",
        "\n",
        "sim = Simulation(initial_state=system.hoomd_snapshot, forcefield=system.hoomd_forcefield)\n",
        "\n",
        "sim.run_NVE(n_steps=1e3)"
      ]
    },
    {
      "cell_type": "code",
      "execution_count": null,
      "metadata": {
        "id": "GZ6b-OqdhYjV"
      },
      "outputs": [],
      "source": [
        "sim.save_restart_gsd(\"snapshot.gsd\")\n",
        "\n",
        "sim.pickle_forcefield(\"hoomd_forces.pickle\")"
      ]
    },
    {
      "cell_type": "code",
      "execution_count": null,
      "metadata": {
        "id": "8sqg35GrhYjV"
      },
      "outputs": [],
      "source": [
        "import pickle\n",
        "\n",
        "f = open(\"hoomd_forces.pickle\", \"rb\")\n",
        "hoomd_ff = pickle.load(f)"
      ]
    },
    {
      "cell_type": "code",
      "execution_count": null,
      "metadata": {
        "id": "yfMWYzhwhYjW"
      },
      "outputs": [],
      "source": [
        "resume_sim = Simulation(initial_state=\"snapshot.gsd\", forcefield=hoomd_ff)"
      ]
    },
    {
      "cell_type": "code",
      "source": [],
      "metadata": {
        "id": "uBx-elPvhJbf"
      },
      "execution_count": null,
      "outputs": []
    }
  ],
  "metadata": {
    "kernelspec": {
      "display_name": "Python 3 (ipykernel)",
      "language": "python",
      "name": "python3"
    },
    "language_info": {
      "codemirror_mode": {
        "name": "ipython",
        "version": 3
      },
      "file_extension": ".py",
      "mimetype": "text/x-python",
      "name": "python",
      "nbconvert_exporter": "python",
      "pygments_lexer": "ipython3",
      "version": "3.11.0"
    },
    "colab": {
      "provenance": []
    }
  },
  "nbformat": 4,
  "nbformat_minor": 0
}