{
 "cells": [
  {
   "cell_type": "markdown",
   "id": "1bc89047",
   "metadata": {
    "collapsed": false,
    "id": "1bc89047",
    "jupyter": {
     "outputs_hidden": false
    }
   },
   "source": [
    "# Running a Surface wetting Workflow with flowerMD"
   ]
  },
  {
   "cell_type": "markdown",
   "id": "b387f315",
   "metadata": {
    "collapsed": false,
    "id": "b387f315",
    "jupyter": {
     "outputs_hidden": false
    }
   },
   "source": [
    "## Overview:\n",
    "\n",
    "This notebook demonstrates how to run a surface wetting workflow with flowerMD. For demonstration purposes, we will create a Poly(ethylene) droplet on a graphene surface. The workflow consists of the following steps:\n",
    "\n",
    "1. Create a droplet of the polymer melt\n",
    "2. Create a graphene surface\n",
    "3. Combine the droplet and surface into a single system\n",
    "4. Run wetting simulation"
   ]
  },
  {
   "cell_type": "markdown",
   "id": "50052606",
   "metadata": {
    "collapsed": false,
    "id": "50052606",
    "jupyter": {
     "outputs_hidden": false
    }
   },
   "source": [
    "## Step 1: Create a droplet\n",
    "\n",
    "Let's start by creating a Poly(ethylene) droplet. We will use the `PolyEthylene` class from the `flowermd.library.polymers` module to create a Poly(ethylene) melt. We will then use the `Pack` class from the `flowermd.base.system` module to create the system.\n",
    "\n",
    "Next step is to start the droplet simulation by using the `DropletSimulation` class from the `flowermd.modules.surface_wetting` module. We will use the `DropletSimulation.from_system` method to create the simulation object from the system object. This method will automatically create the simulation object with the correct parameters for the droplet simulation."
   ]
  },
  {
   "cell_type": "code",
   "execution_count": null,
   "id": "60066eb2-90df-415d-a5db-38656d6417ae",
   "metadata": {
    "id": "60066eb2-90df-415d-a5db-38656d6417ae"
   },
   "outputs": [],
   "source": [
    "!pip install -q condacolab\n",
    "import condacolab\n",
    "condacolab.install()\n"
   ]
  },
  {
   "cell_type": "code",
   "execution_count": null,
   "id": "b1becc97-1d76-4ef5-9d03-c84d57af32ee",
   "metadata": {
    "id": "b1becc97-1d76-4ef5-9d03-c84d57af32ee"
   },
   "outputs": [],
   "source": [
    "!mamba install flowermd"
   ]
  },
  {
   "cell_type": "code",
   "execution_count": 1,
   "id": "a5c5578f",
   "metadata": {
    "collapsed": false,
    "id": "a5c5578f",
    "jupyter": {
     "outputs_hidden": false
    }
   },
   "outputs": [],
   "source": [
    "from cmeutils.visualize import FresnelGSD\n",
    "import unyt\n",
    "import warnings\n",
    "import os\n",
    "\n",
    "warnings.filterwarnings('ignore')"
   ]
  },
  {
   "cell_type": "code",
   "execution_count": 2,
   "id": "03fb3c31-28c5-4520-a85e-b9828f20c2e4",
   "metadata": {
    "id": "03fb3c31-28c5-4520-a85e-b9828f20c2e4"
   },
   "outputs": [
    {
     "name": "stderr",
     "output_type": "stream",
     "text": [
      "/home/chris/mambaforge/envs/flowermd-dev/lib/python3.11/site-packages/mdtraj/formats/__init__.py:13: DeprecationWarning: 'xdrlib' is deprecated and slated for removal in Python 3.13\n",
      "  from mdtraj.formats.trr import TRRTrajectoryFile\n"
     ]
    }
   ],
   "source": [
    "from flowermd.base.system import Pack\n",
    "from flowermd.library.polymers import PolyEthylene\n",
    "from flowermd.library.forcefields import OPLS_AA"
   ]
  },
  {
   "cell_type": "code",
   "execution_count": 3,
   "id": "620ce655-2c44-43a8-9a7a-2cedc148ff99",
   "metadata": {
    "id": "620ce655-2c44-43a8-9a7a-2cedc148ff99",
    "scrolled": true
   },
   "outputs": [
    {
     "name": "stdout",
     "output_type": "stream",
     "text": [
      "No charged group detected, skipping electrostatics.\n"
     ]
    }
   ],
   "source": [
    "polyethylene = PolyEthylene(num_mols=70, lengths=25)\n",
    "droplet_system = Pack(molecules=polyethylene, density=1.0 * unyt.g/unyt.cm**3)\n",
    "droplet_system.apply_forcefield(\n",
    "    force_field=OPLS_AA(),\n",
    "    remove_charges=True,\n",
    "    remove_hydrogens=True,\n",
    "    auto_scale=True,\n",
    "    r_cut=2.5\n",
    ")"
   ]
  },
  {
   "cell_type": "code",
   "execution_count": 4,
   "id": "18fa1f94-d803-4c52-b9ca-cb081fb28953",
   "metadata": {
    "id": "18fa1f94-d803-4c52-b9ca-cb081fb28953"
   },
   "outputs": [
    {
     "name": "stdout",
     "output_type": "stream",
     "text": [
      "Initializing simulation state from a gsd.hoomd.Frame.\n"
     ]
    }
   ],
   "source": [
    "from flowermd.modules.surface_wetting import DropletSimulation\n",
    "\n",
    "droplet_sim = DropletSimulation.from_system(\n",
    "    droplet_system,\n",
    "    gsd_file_name=\"droplet_trajectory.gsd\",\n",
    "    log_file_name=\"droplet_sim_data.txt\"\n",
    ")"
   ]
  },
  {
   "cell_type": "markdown",
   "id": "26f11e0e-6b61-493b-8633-c2046a0a540d",
   "metadata": {},
   "source": [
    "**Note: Saving and reusing forces from a simulation:**\n",
    "\n",
    "We created the set of Hoomd forces needed to simulate polyethylene in `DropletSimulation`.\n",
    "In a later simulation, we will be simulating polyethylene again, so we can save the Hoomd force objects here for quick loading in another simulation.\n",
    "Also, we will save the reference units used for polyethylene, which came from our choice of forcefield."
   ]
  },
  {
   "cell_type": "code",
   "execution_count": 5,
   "id": "0c41c638-fc16-4bf2-b329-ee068a4c6def",
   "metadata": {},
   "outputs": [],
   "source": [
    "droplet_ref_values = droplet_sim.reference_values\n",
    "droplet_sim.pickle_forcefield(\"polyethylene_forces.pickle\")"
   ]
  },
  {
   "cell_type": "markdown",
   "id": "09bfd711-ba7b-4119-a3d8-d99db21f4b1f",
   "metadata": {
    "id": "09bfd711-ba7b-4119-a3d8-d99db21f4b1f"
   },
   "source": [
    "<div class=\"alert alert-block alert-warning\"><b>Warning:</b> Due to the large system size, the following cell may take approximately 30 minutes to an hour to run.</div>"
   ]
  },
  {
   "cell_type": "markdown",
   "id": "e0095630-28f9-4dad-bebf-8257f6fa46ee",
   "metadata": {
    "id": "e0095630-28f9-4dad-bebf-8257f6fa46ee"
   },
   "source": [
    "**Run the droplet simulation:**\n",
    "\n",
    "The `run_droplet` method runs the droplet simulation. The method takes the following steps:\n",
    "1. Shrink the box to a high density at a high temperature. This allows the polymer chains to pack tightly.\n",
    "2. Expand the box to a low density at a low temperature. This allows the polymer chains to relax and form a droplet.\n",
    "3. Hold the box at a low density at a low temperature. This allows the droplet to equilibrate."
   ]
  },
  {
   "cell_type": "code",
   "execution_count": null,
   "id": "d7b0cc44-de5e-42b0-b594-30f9d94e11ce",
   "metadata": {
    "id": "d7b0cc44-de5e-42b0-b594-30f9d94e11ce"
   },
   "outputs": [],
   "source": [
    "# Uncomment the code-block below to try creating a polymer droplet.\n",
    "\n",
    "\"\"\"\n",
    "droplet_sim.run_droplet(\n",
    "    tau_kt=droplet_sim.dt * 100,\n",
    "    shrink_kT=5.0,\n",
    "    shrink_steps=1e6,\n",
    "    shrink_period=1000,\n",
    "    shrink_density=1.4,\n",
    "    expand_kT=0.5,\n",
    "    expand_steps=2e6,\n",
    "    expand_period=1000,\n",
    "    hold_kT=0.5,\n",
    "    hold_steps=1e5,\n",
    "    final_density=0.05\n",
    ")\n",
    "droplet_sim.flush_writers()\n",
    "\"\"\""
   ]
  },
  {
   "cell_type": "markdown",
   "id": "4bd62f83",
   "metadata": {
    "collapsed": false,
    "id": "4bd62f83",
    "jupyter": {
     "outputs_hidden": false
    }
   },
   "source": [
    "<div class=\"alert alert-block alert-info\"> <b>Note:</b> In order to reach the perfect droplet shape, you might need to try different parameters (e.g. system size, density, and temperatures) and check the trajectory to see if the droplet is forming.\n",
    "</div>\n"
   ]
  },
  {
   "cell_type": "markdown",
   "id": "e1400370-a30a-4d33-a625-bf000a499846",
   "metadata": {
    "id": "e1400370-a30a-4d33-a625-bf000a499846"
   },
   "source": [
    "For demonstration purposes and to save time, we will use the pre-run droplet simulation snapshot for the above system, saved in the `data` directory."
   ]
  },
  {
   "cell_type": "code",
   "execution_count": 6,
   "id": "c0b0f2c7",
   "metadata": {
    "collapsed": false,
    "id": "c0b0f2c7",
    "jupyter": {
     "outputs_hidden": false
    }
   },
   "outputs": [
    {
     "name": "stdout",
     "output_type": "stream",
     "text": [
      "\n",
      "\n",
      "\u001b7\u001b[1A\u001b[1G\u001b[27G[Files: 0  Bytes: 0  [0 B/s] Re]\u001b8\u001b7\u001b[2A\u001b[1G\u001b[27G[https://github.com/mosdef-hub/]\u001b8\u001b7\u001b[2A\u001b[1G0 files                0% [<=>                           ]       0          B/s\u001b8\u001b7\u001b[1A\u001b[1G\u001b[27G[Files: 0  Bytes: 0  [0 B/s] Re]\u001b8\u001b7\u001b[2A\u001b[1G0 files                0% [ <=>                          ]       0          B/s\u001b8\u001b7\u001b[2A\u001b[1G\u001b[27G[https://raw.githubusercontent.]\u001b8\u001b7\u001b[2A\u001b[1Gpolyethylene_droplet  10% [==>                           ]   31.98K    --.-KB/s\u001b8\u001b7\u001b[2A\u001b[1Gpolyethylene_droplet  51% [==============>               ]  159.98K    1.00MB/s\u001b8\u001b7\u001b[2A\u001b[1Gpolyethylene_droplet  82% [=======================>      ]  256.00K  597.37KB/s\u001b8\u001b7\u001b[2A\u001b[1Gpolyethylene_droplet 100% [=============================>]  312.04K  738.94KB/s\u001b8\u001b7\u001b[1A\u001b[1G\u001b[27G[Files: 1  Bytes: 312.04K [191.]\u001b8\u001b[m\u001b[m\u001b[m\u001b[m"
     ]
    }
   ],
   "source": [
    "import gsd.hoomd\n",
    "import pickle\n",
    "\n",
    "!wget https://github.com/mosdef-hub/FOMMS-MoSDeF-Workshop/raw/main/polymers/polyethylene_droplet.gsd\n",
    "droplet_snapshot = gsd.hoomd.open('polyethylene_droplet.gsd')[0]"
   ]
  },
  {
   "cell_type": "markdown",
   "id": "444a22c1",
   "metadata": {
    "collapsed": false,
    "id": "444a22c1",
    "jupyter": {
     "outputs_hidden": false
    }
   },
   "source": [
    "Here is a visualization of the droplet:"
   ]
  },
  {
   "cell_type": "code",
   "execution_count": 7,
   "id": "9893f59d",
   "metadata": {
    "collapsed": false,
    "id": "9893f59d",
    "jupyter": {
     "outputs_hidden": false
    }
   },
   "outputs": [
    {
     "data": {
      "image/png": "[encoded data removed]",
      "text/plain": [
       "<fresnel.util.ImageArray at 0x7f38fbdbc490>"
      ]
     },
     "execution_count": 7,
     "metadata": {},
     "output_type": "execute_result"
    }
   ],
   "source": [
    "sim_viewer = FresnelGSD(gsd_file=\"polyethylene_droplet.gsd\", view_axis=(0, 1, 0), frame=-1)\n",
    "sim_viewer.view()"
   ]
  },
  {
   "cell_type": "markdown",
   "id": "29c97387",
   "metadata": {
    "collapsed": false,
    "id": "29c97387",
    "jupyter": {
     "outputs_hidden": false
    }
   },
   "source": [
    "## Step 2: Create a graphene surface\n",
    "\n",
    "We will use the `Graphene` class from the `flowermd.library.surfaces` to create a graphene surface. The size of the graphene surface is determined by the `x_repeat` and `y_repeat` parameters, which determine the number of unit cells in the x and y directions, respectively.  The `n_layers` parameter determines the number of graphene layers.\n",
    "This class is a subclass of `System` base class, so we can use the `apply_forcefield` method to apply the force field to the graphene surface."
   ]
  },
  {
   "cell_type": "markdown",
   "id": "ee7d0ebc",
   "metadata": {
    "collapsed": false,
    "id": "ee7d0ebc",
    "jupyter": {
     "outputs_hidden": false
    }
   },
   "source": [
    "**Note**: We are using the droplet system's reference values to scale the graphene surface. This ensures that the graphene surface and the droplet system have the same units. Make sure to set the `auto_scale` parameter to `False` when applying the force field to the graphene surface."
   ]
  },
  {
   "cell_type": "code",
   "execution_count": null,
   "id": "1a685c3d-ba9f-4db9-9aee-02e61526e2f0",
   "metadata": {
    "id": "1a685c3d-ba9f-4db9-9aee-02e61526e2f0",
    "scrolled": true
   },
   "outputs": [
    {
     "name": "stdout",
     "output_type": "stream",
     "text": [
      "No charged group detected, skipping electrostatics.\n"
     ]
    }
   ],
   "source": [
    "from flowermd.library.surfaces import Graphene\n",
    "\n",
    "graphene = Graphene(\n",
    "    x_repeat=30,\n",
    "    y_repeat=30,\n",
    "    n_layers=2,\n",
    "    base_units=droplet_ref_values\n",
    ")\n",
    "graphene.apply_forcefield(\n",
    "    force_field=OPLS_AA(),\n",
    "    remove_charges=True,\n",
    "    auto_scale=False,\n",
    "    r_cut=2.5\n",
    ")"
   ]
  },
  {
   "cell_type": "markdown",
   "id": "f96db611",
   "metadata": {
    "collapsed": false,
    "id": "f96db611",
    "jupyter": {
     "outputs_hidden": false
    }
   },
   "source": [
    "## Step 3: Combine the droplet and surface systems\n",
    "\n",
    "The `InterfaceBuilder` class from the `flowermd.modules.surface_wetting` module combines the droplet and surface snapshots by placing the droplet particles on top of the surface. The particles are placed in a box with a height equal to the `box_height` parameter. The `gap` parameter determines the distance between the droplet and the surface.\n",
    "\n",
    "This class also combines the force fields of the droplet and surface systems, while also accounting for new LJ interactions between the droplet and surface particles.\n"
   ]
  },
  {
   "cell_type": "code",
   "execution_count": null,
   "id": "d858ce24-8c60-47bc-97e4-6defc92e231e",
   "metadata": {},
   "outputs": [],
   "source": [
    "with open(\"polyethylene_forces.pickle\" \"rb\") as f:\n",
    "    droplet_ff = pickle.load(f)"
   ]
  },
  {
   "cell_type": "code",
   "execution_count": null,
   "id": "a37a21d6-4185-4ecf-b3c3-112a4436cdae",
   "metadata": {
    "id": "a37a21d6-4185-4ecf-b3c3-112a4436cdae"
   },
   "outputs": [],
   "source": [
    "from flowermd.modules.surface_wetting import InterfaceBuilder\n",
    "import unyt as u\n",
    "\n",
    "interface = InterfaceBuilder(\n",
    "    surface_snapshot=graphene.hoomd_snapshot,\n",
    "    surface_ff=graphene.hoomd_forcefield,\n",
    "    drop_snapshot=droplet_snapshot,\n",
    "    drop_ff=droplet_ff,\n",
    "    drop_ref_values=droplet_ref_values,\n",
    "    box_height=12 * u.nm,\n",
    "    gap=0.4 * u.nm\n",
    ")"
   ]
  },
  {
   "cell_type": "markdown",
   "id": "7a854a44",
   "metadata": {
    "collapsed": false,
    "id": "7a854a44",
    "jupyter": {
     "outputs_hidden": false
    }
   },
   "source": [
    "The new snapshot and force field can be accessed using the `hoomd_snapshot` and `hoomd_forcefield` attributes, respectively."
   ]
  },
  {
   "cell_type": "code",
   "execution_count": null,
   "id": "94cda23f-9ad6-41c4-8251-311b209f9c41",
   "metadata": {
    "id": "94cda23f-9ad6-41c4-8251-311b209f9c41"
   },
   "outputs": [],
   "source": [
    "wetting_snapshot = interface.hoomd_snapshot\n",
    "wetting_forcefield = interface.hoomd_forces"
   ]
  },
  {
   "cell_type": "code",
   "execution_count": null,
   "id": "1ca51b8c-574a-48ae-a8ae-97995320bdf3",
   "metadata": {
    "id": "1ca51b8c-574a-48ae-a8ae-97995320bdf3"
   },
   "outputs": [],
   "source": [
    "# save the `wetting_snapshot` to a gsd file\n",
    "with gsd.hoomd.open(\"surface_wetting_init.gsd\", \"w\") as traj:\n",
    "    traj.append(wetting_snapshot)"
   ]
  },
  {
   "cell_type": "markdown",
   "id": "1a776c54",
   "metadata": {
    "collapsed": false,
    "id": "1a776c54",
    "jupyter": {
     "outputs_hidden": false
    }
   },
   "source": [
    "Let's visualize the new snapshot containing the droplet and surface particles."
   ]
  },
  {
   "cell_type": "code",
   "execution_count": null,
   "id": "e1500802",
   "metadata": {
    "collapsed": false,
    "id": "e1500802",
    "jupyter": {
     "outputs_hidden": false
    }
   },
   "outputs": [],
   "source": [
    "sim_viewer = FresnelGSD(gsd_file=\"surface_wetting_init.gsd\", view_axis=(0, 1.5, 0), frame=-1)\n",
    "sim_viewer.view()"
   ]
  },
  {
   "cell_type": "markdown",
   "id": "d938d6b6",
   "metadata": {
    "collapsed": false,
    "id": "d938d6b6",
    "jupyter": {
     "outputs_hidden": false
    }
   },
   "source": [
    "## Step 4: Run wetting simulation\n",
    "\n",
    "The `WettingSimulation` class from the `flowermd.modules.surface_wetting` module runs the wetting simulation. The `WettingSimulation` class is a subclass of the `Simulation` base class. The `WettingSimulation` class takes the following parameters:\n",
    "- `initial_state`: The snapshot containing the droplet and surface particles.\n",
    "- `forcefield`: The force field containing the droplet and surface force fields.\n",
    "- `fix_surface`: A boolean value that determines whether the surface particles are fixed during the simulation. If `True`, the surface particles are excluded from the integrator, meaning that they will not move during the simulation."
   ]
  },
  {
   "cell_type": "code",
   "execution_count": null,
   "id": "f383a19b",
   "metadata": {
    "collapsed": false,
    "id": "f383a19b",
    "jupyter": {
     "outputs_hidden": false
    }
   },
   "outputs": [],
   "source": [
    "from flowermd.modules.surface_wetting import WettingSimulation\n",
    "\n",
    "wetting_sim = WettingSimulation(\n",
    "    initial_state=wetting_snapshot,\n",
    "    forcefield=wetting_forcefield,\n",
    "    fix_surface=True,\n",
    "    gsd_file_name=\"wetting_trajectory.gsd\",\n",
    "    log_file_name=\"wetting_sim_data.txt\"\n",
    ")"
   ]
  },
  {
   "cell_type": "markdown",
   "id": "1bad3c08",
   "metadata": {
    "collapsed": false,
    "id": "1bad3c08",
    "jupyter": {
     "outputs_hidden": false
    }
   },
   "source": [
    "Now we can start the wetting simulation by using the `run_NVT` method. The droplet slowly spreads on the surface, and eventually wets the surface."
   ]
  },
  {
   "cell_type": "markdown",
   "id": "8c74cac0-8f28-4c05-baee-00893b1eb886",
   "metadata": {
    "id": "8c74cac0-8f28-4c05-baee-00893b1eb886"
   },
   "source": [
    "<div class=\"alert alert-block alert-warning\"><b>Warning:</b> Due to the large system size, the following cells may take approximately 30 minutes to an hour to run.</div>"
   ]
  },
  {
   "cell_type": "code",
   "execution_count": null,
   "id": "6509db1e",
   "metadata": {
    "collapsed": false,
    "id": "6509db1e",
    "jupyter": {
     "outputs_hidden": false
    }
   },
   "outputs": [],
   "source": [
    "# Uncomment to run surface wetting simulation\n",
    "\n",
    "#wetting_sim.run_NVT(kT=3.0, n_steps=3e5, tau_kt=wetting_sim.dt*100)\n",
    "#wetting_sim.flush_writers()"
   ]
  },
  {
   "cell_type": "code",
   "execution_count": null,
   "id": "1ce60d1f",
   "metadata": {
    "collapsed": false,
    "id": "1ce60d1f",
    "jupyter": {
     "outputs_hidden": false
    }
   },
   "outputs": [],
   "source": [
    "sim_viewer = FresnelGSD(gsd_file=\"wetting_trajectory.gsd\", view_axis=(0, 1.5, 0), frame=-1)\n",
    "sim_viewer.view()"
   ]
  },
  {
   "cell_type": "code",
   "execution_count": null,
   "id": "d96aaab1-9b27-4493-a73d-dd648205b1dd",
   "metadata": {
    "id": "d96aaab1-9b27-4493-a73d-dd648205b1dd"
   },
   "outputs": [],
   "source": [
    "# Uncomment to run the surface wetting simulation longer:\n",
    "\n",
    "#wetting_sim.run_NVT(kT=3.0, n_steps=2e5, tau_kt=wetting_sim.dt*100)\n",
    "#wetting_sim.flush_writers()"
   ]
  },
  {
   "cell_type": "code",
   "execution_count": null,
   "id": "1ec84021-fccb-4372-abdc-fa5158014564",
   "metadata": {
    "id": "1ec84021-fccb-4372-abdc-fa5158014564"
   },
   "outputs": [],
   "source": [
    "sim_viewer = FresnelGSD(gsd_file=\"wetting_trajectory.gsd\", view_axis=(0, 1.5, 0), frame=-1)\n",
    "sim_viewer.view()"
   ]
  },
  {
   "cell_type": "markdown",
   "id": "3fd98f22-0be2-45a6-bead-7560904e0bec",
   "metadata": {
    "id": "99622de0-4694-4a60-a5f2-35c09e4ba840"
   },
   "source": [
    "**Workflow summary:**"
   ]
  },
  {
   "cell_type": "code",
   "execution_count": null,
   "id": "64d0cb83-d2ac-4d01-83df-faf2dfc694d4",
   "metadata": {},
   "outputs": [],
   "source": [
    "polyethylene = PolyEthylene(num_mols=70, lengths=25)\n",
    "droplet_system = Pack(molecules=polyethylene, density=1.0 * unyt.g/unyt.cm**3)\n",
    "droplet_system.apply_forcefield(\n",
    "    force_field=OPLS_AA(),\n",
    "    remove_charges=True,\n",
    "    remove_hydrogens=True,\n",
    "    auto_scale=True,\n",
    "    r_cut=2.5\n",
    ")\n",
    "\n",
    "droplet_sim = DropletSimulation.from_system(\n",
    "    droplet_system,\n",
    "    gsd_file_name=\"droplet_trajectory.gsd\",\n",
    "    log_file_name=\"droplet_sim_data.txt\"\n",
    ")\n",
    "droplet_ref_values = droplet_sim.reference_values\n",
    "droplet_sim.pickle_forcefield(\"polyethylene_forces.pickle\")\n",
    "droplet_snapshot = gsd.hoomd.open('polyethylene_droplet.gsd')[0]\n",
    "\n",
    "graphene = Graphene(\n",
    "    x_repeat=30,\n",
    "    y_repeat=30,\n",
    "    n_layers=2,\n",
    "    base_units=droplet_ref_values\n",
    ")\n",
    "graphene.apply_forcefield(\n",
    "    force_field=OPLS_AA(),\n",
    "    remove_charges=True,\n",
    "    auto_scale=False,\n",
    "    r_cut=2.5\n",
    ")\n",
    "\n",
    "interface = InterfaceBuilder(\n",
    "    surface_snapshot=graphene.hoomd_snapshot,\n",
    "    surface_ff=graphene.hoomd_forcefield,\n",
    "    drop_snapshot=droplet_snapshot,\n",
    "    drop_ff=droplet_ff,\n",
    "    drop_ref_values=droplet_ref_values,\n",
    "    box_height=12 * u.nm,\n",
    "    gap=0.4 * u.nm\n",
    ")\n",
    "\n",
    "wetting_snapshot = interface.hoomd_snapshot\n",
    "wetting_forcefield = interface.hoomd_forces\n",
    "\n",
    "wetting_sim = WettingSimulation(\n",
    "    initial_state=wetting_snapshot,\n",
    "    forcefield=wetting_forcefield,\n",
    "    fix_surface=True,\n",
    "    gsd_file_name=\"wetting_trajectory.gsd\",\n",
    "    log_file_name=\"wetting_sim_data.txt\"\n",
    ")"
   ]
  }
 ],
 "metadata": {
  "colab": {
   "provenance": []
  },
  "kernelspec": {
   "display_name": "Python 3 (ipykernel)",
   "language": "python",
   "name": "python3"
  },
  "language_info": {
   "codemirror_mode": {
    "name": "ipython",
    "version": 3
   },
   "file_extension": ".py",
   "mimetype": "text/x-python",
   "name": "python",
   "nbconvert_exporter": "python",
   "pygments_lexer": "ipython3",
   "version": "3.11.0"
  }
 },
 "nbformat": 4,
 "nbformat_minor": 5
}
