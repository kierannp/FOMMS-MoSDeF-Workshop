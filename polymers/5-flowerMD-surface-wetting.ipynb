{
 "cells": [
  {
   "cell_type": "markdown",
   "id": "1bc89047",
   "metadata": {
    "collapsed": false,
    "jupyter": {
     "outputs_hidden": false
    }
   },
   "source": [
    "# Running a Surface wetting Workflow with flowerMD"
   ]
  },
  {
   "cell_type": "markdown",
   "id": "b387f315",
   "metadata": {
    "collapsed": false,
    "jupyter": {
     "outputs_hidden": false
    }
   },
   "source": [
    "## Overview:\n",
    "\n",
    "This notebook demonstrates how to run a surface wetting workflow with flowerMD. For demonstration purposes, we will create a Poly(ethylene) droplet on a graphene surface. The workflow consists of the following steps:\n",
    "\n",
    "1. Create a droplet of the polymer melt\n",
    "2. Create a graphene surface\n",
    "3. Combine the droplet and surface into a single system\n",
    "4. Run wetting simulation"
   ]
  },
  {
   "cell_type": "markdown",
   "id": "50052606",
   "metadata": {
    "collapsed": false,
    "jupyter": {
     "outputs_hidden": false
    }
   },
   "source": [
    "## Step 1: Create a droplet\n",
    "\n",
    "Let's start by creating a Poly(ethylene) droplet. We will use the `PolyEthylene` class from the `flowermd.library.polymers` module to create a Poly(ethylene) melt. We will then use the `Pack` class from the `flowermd.base.system` module to create the system.\n",
    "\n",
    "Next step is to start the droplet simulation by using the `DropletSimulation` class from the `flowermd.modules.surface_wetting` module. We will use the `DropletSimulation.from_system` method to create the simulation object from the system object. This method will automatically create the simulation object with the correct parameters for the droplet simulation."
   ]
  },
  {
   "cell_type": "code",
   "execution_count": null,
   "id": "a5c5578f",
   "metadata": {
    "collapsed": false,
    "jupyter": {
     "outputs_hidden": false
    }
   },
   "outputs": [],
   "source": [
    "from cmeutils.visualize import FresnelGSD\n",
    "import unyt\n",
    "import warnings\n",
    "import os\n",
    "\n",
    "warnings.filterwarnings('ignore')"
   ]
  },
  {
   "cell_type": "code",
   "execution_count": null,
   "id": "03fb3c31-28c5-4520-a85e-b9828f20c2e4",
   "metadata": {},
   "outputs": [],
   "source": [
    "from flowermd.base.system import Pack\n",
    "from flowermd.library.polymers import PolyEthylene\n",
    "from flowermd.library.forcefields import OPLS_AA"
   ]
  },
  {
   "cell_type": "code",
   "execution_count": null,
   "id": "620ce655-2c44-43a8-9a7a-2cedc148ff99",
   "metadata": {
    "scrolled": true
   },
   "outputs": [],
   "source": [
    "polyethylene = PolyEthylene(num_mols=70, lengths=25)\n",
    "droplet_system = Pack(molecules=polyethylene, density=1.0 * unyt.g/unyt.cm**3)\n",
    "droplet_system.apply_forcefield(\n",
    "    force_field=OPLS_AA(), \n",
    "    remove_charges=True,         \n",
    "    remove_hydrogens=True, \n",
    "    auto_scale=True,\n",
    "    r_cut=2.5\n",
    ")"
   ]
  },
  {
   "cell_type": "code",
   "execution_count": null,
   "id": "18fa1f94-d803-4c52-b9ca-cb081fb28953",
   "metadata": {},
   "outputs": [],
   "source": [
    "from flowermd.modules.surface_wetting import DropletSimulation\n",
    "\n",
    "droplet_sim = DropletSimulation.from_system(\n",
    "    droplet_system,\n",
    "    gsd_file_name=\"droplet_trajectory.gsd\",\n",
    "    log_file_name=\"droplet_sim_data.txt\"\n",
    ")"
   ]
  },
  {
   "cell_type": "markdown",
   "id": "09bfd711-ba7b-4119-a3d8-d99db21f4b1f",
   "metadata": {},
   "source": [
    "<div class=\"alert alert-block alert-warning\"><b>Warning:</b> Due to the large system size, the following cell may take approximately 30 minutes to an hour to run.</div>"
   ]
  },
  {
   "cell_type": "markdown",
   "id": "e0095630-28f9-4dad-bebf-8257f6fa46ee",
   "metadata": {},
   "source": [
    "**Run the droplet simulation:**\n",
    "\n",
    "The `run_droplet` method runs the droplet simulation. The method takes the following steps:\n",
    "1. Shrink the box to a high density at a high temperature. This allows the polymer chains to pack tightly.\n",
    "2. Expand the box to a low density at a low temperature. This allows the polymer chains to relax and form a droplet.\n",
    "3. Hold the box at a low density at a low temperature. This allows the droplet to equilibrate."
   ]
  },
  {
   "cell_type": "code",
   "execution_count": null,
   "id": "d7b0cc44-de5e-42b0-b594-30f9d94e11ce",
   "metadata": {},
   "outputs": [],
   "source": [
    "# Uncomment the code-block below to try creating a polymer droplet.\n",
    "\n",
    "\"\"\"\n",
    "droplet_sim.run_droplet(\n",
    "    tau_kt=droplet_sim.dt * 100,\n",
    "    shrink_kT=5.0,\n",
    "    shrink_steps=1e6,\n",
    "    shrink_period=1000,\n",
    "    shrink_density=1.4,\n",
    "    expand_kT=0.5,\n",
    "    expand_steps=2e6,\n",
    "    expand_period=1000,\n",
    "    hold_kT=0.5,\n",
    "    hold_steps=1e5,\n",
    "    final_density=0.05\n",
    ")\n",
    "droplet_sim.flush_writers()\n",
    "\"\"\""
   ]
  },
  {
   "cell_type": "markdown",
   "id": "4bd62f83",
   "metadata": {
    "collapsed": false,
    "jupyter": {
     "outputs_hidden": false
    }
   },
   "source": [
    "<div class=\"alert alert-block alert-info\"> <b>Note:</b> In order to reach the perfect droplet shape, you might need to try different parameters (e.g. system size, density, and temperatures) and check the trajectory to see if the droplet is forming.\n",
    "</div>\n"
   ]
  },
  {
   "cell_type": "markdown",
   "id": "e1400370-a30a-4d33-a625-bf000a499846",
   "metadata": {},
   "source": [
    "For demonstration purposes and to save time, we will use the pre-run droplet simulation snapshot for the above system, saved in the `data` directory."
   ]
  },
  {
   "cell_type": "code",
   "execution_count": null,
   "id": "c0b0f2c7",
   "metadata": {
    "collapsed": false,
    "jupyter": {
     "outputs_hidden": false
    }
   },
   "outputs": [],
   "source": [
    "import gsd.hoomd\n",
    "import pickle\n",
    "\n",
    "!wget https://github.com/mosdef-hub/FOMMS-MoSDeF-Workshop/blob/main/polymers/polyethylene_droplet.gsd\n",
    "droplet_snapshot = gsd.hoomd.open('polyethylene_droplet.gsd')[0]"
   ]
  },
  {
   "cell_type": "markdown",
   "id": "444a22c1",
   "metadata": {
    "collapsed": false,
    "jupyter": {
     "outputs_hidden": false
    }
   },
   "source": [
    "Here is a visualization of the droplet:"
   ]
  },
  {
   "cell_type": "code",
   "execution_count": null,
   "id": "9893f59d",
   "metadata": {
    "collapsed": false,
    "jupyter": {
     "outputs_hidden": false
    }
   },
   "outputs": [],
   "source": [
    "sim_viewer = FresnelGSD(gsd_file=\"polyethylene_droplet.gsd\", view_axis=(0, 1, 0), frame=-1)\n",
    "sim_viewer.view()"
   ]
  },
  {
   "cell_type": "markdown",
   "id": "7e75e340-2c45-401e-bd0a-70f907f90975",
   "metadata": {},
   "source": [
    "Since we will need the forcefield and reference values of the droplet system later, we will create a new droplet system with a smaller number of molecules and save the forcefield and reference values."
   ]
  },
  {
   "cell_type": "code",
   "execution_count": null,
   "id": "66b810dd-1bde-43e6-8aad-5ef3f72049c8",
   "metadata": {},
   "outputs": [],
   "source": [
    "polyethylene_small = PolyEthylene(num_mols=10, lengths=5)\n",
    "droplet_system_small = Pack(molecules=polyethylene_small, density=1.0)\n",
    "droplet_system_small.apply_forcefield(\n",
    "    force_field=OPLS_AA(), \n",
    "    remove_charges=True,         \n",
    "    remove_hydrogens=True, \n",
    "    auto_scale=True,\n",
    "    r_cut=2.5\n",
    ")"
   ]
  },
  {
   "cell_type": "code",
   "execution_count": null,
   "id": "bb089f98-a502-44e3-a656-be25a844816e",
   "metadata": {},
   "outputs": [],
   "source": [
    "droplet_ff = droplet_system_small.hoomd_forcefield\n",
    "droplet_ref_values = droplet_system_small.reference_values"
   ]
  },
  {
   "cell_type": "markdown",
   "id": "29c97387",
   "metadata": {
    "collapsed": false,
    "jupyter": {
     "outputs_hidden": false
    }
   },
   "source": [
    "## Step 2: Create a graphene surface\n",
    "\n",
    "We will use the `Graphene` class from the `flowermd.library.surfaces` to create a graphene surface. The size of the graphene surface is determined by the `x_repeat` and `y_repeat` parameters, which determine the number of unit cells in the x and y directions, respectively.  The `n_layers` parameter determines the number of graphene layers.\n",
    "This class is a subclass of `System` base class, so we can use the `apply_forcefield` method to apply the force field to the graphene surface."
   ]
  },
  {
   "cell_type": "markdown",
   "id": "ee7d0ebc",
   "metadata": {
    "collapsed": false,
    "jupyter": {
     "outputs_hidden": false
    }
   },
   "source": [
    "**Note**: We are using the droplet system's reference values to scale the graphene surface. This ensures that the graphene surface and the droplet system have the same units. Make sure to set the `auto_scale` parameter to `False` when applying the force field to the graphene surface."
   ]
  },
  {
   "cell_type": "code",
   "execution_count": null,
   "id": "1a685c3d-ba9f-4db9-9aee-02e61526e2f0",
   "metadata": {
    "scrolled": true
   },
   "outputs": [],
   "source": [
    "from flowermd.library.surfaces import Graphene\n",
    "\n",
    "graphene = Graphene(\n",
    "    x_repeat=30,\n",
    "    y_repeat=30,\n",
    "    n_layers=2,\n",
    "    base_units=droplet_ref_values\n",
    ")\n",
    "graphene.apply_forcefield(\n",
    "    force_field=OPLS_AA(),\n",
    "    remove_charges=True,\n",
    "    auto_scale=False,\n",
    "    r_cut=2.5\n",
    ")"
   ]
  },
  {
   "cell_type": "markdown",
   "id": "f96db611",
   "metadata": {
    "collapsed": false,
    "jupyter": {
     "outputs_hidden": false
    }
   },
   "source": [
    "## Step 3: Combine the droplet and surface systems\n",
    "\n",
    "The `InterfaceBuilder` class from the `flowermd.modules.surface_wetting` module combines the droplet and surface snapshots by placing the droplet particles on top of the surface. The particles are placed in a box with a height equal to the `box_height` parameter. The `gap` parameter determines the distance between the droplet and the surface.\n",
    "\n",
    "This class also combines the force fields of the droplet and surface systems, while also accounting for new LJ interactions between the droplet and surface particles.\n"
   ]
  },
  {
   "cell_type": "code",
   "execution_count": null,
   "id": "a37a21d6-4185-4ecf-b3c3-112a4436cdae",
   "metadata": {},
   "outputs": [],
   "source": [
    "from flowermd.modules.surface_wetting import InterfaceBuilder\n",
    "import unyt as u\n",
    "\n",
    "interface = InterfaceBuilder(\n",
    "    surface_snapshot=graphene.hoomd_snapshot,\n",
    "    surface_ff=graphene.hoomd_forcefield,\n",
    "    drop_snapshot=droplet_snapshot,\n",
    "    drop_ff=droplet_ff,\n",
    "    drop_ref_values=droplet_ref_values,\n",
    "    box_height=12 * u.nm,\n",
    "    gap=0.4 * u.nm\n",
    ")"
   ]
  },
  {
   "cell_type": "markdown",
   "id": "7a854a44",
   "metadata": {
    "collapsed": false,
    "jupyter": {
     "outputs_hidden": false
    }
   },
   "source": [
    "The new snapshot and force field can be accessed using the `hoomd_snapshot` and `hoomd_forcefield` attributes, respectively."
   ]
  },
  {
   "cell_type": "code",
   "execution_count": null,
   "id": "94cda23f-9ad6-41c4-8251-311b209f9c41",
   "metadata": {},
   "outputs": [],
   "source": [
    "wetting_snapshot = interface.hoomd_snapshot\n",
    "wetting_forcefield = interface.hoomd_forces"
   ]
  },
  {
   "cell_type": "code",
   "execution_count": null,
   "id": "1ca51b8c-574a-48ae-a8ae-97995320bdf3",
   "metadata": {},
   "outputs": [],
   "source": [
    "# save the `wetting_snapshot` to a gsd file\n",
    "with gsd.hoomd.open(\"surface_wetting_init.gsd\", \"w\") as traj:\n",
    "    traj.append(wetting_snapshot)"
   ]
  },
  {
   "cell_type": "markdown",
   "id": "1a776c54",
   "metadata": {
    "collapsed": false,
    "jupyter": {
     "outputs_hidden": false
    }
   },
   "source": [
    "Let's visualize the new snapshot containing the droplet and surface particles."
   ]
  },
  {
   "cell_type": "code",
   "execution_count": null,
   "id": "e1500802",
   "metadata": {
    "collapsed": false,
    "jupyter": {
     "outputs_hidden": false
    }
   },
   "outputs": [],
   "source": [
    "sim_viewer = FresnelGSD(gsd_file=\"surface_wetting_init.gsd\", view_axis=(0, 1.5, 0), frame=-1)\n",
    "sim_viewer.view()"
   ]
  },
  {
   "cell_type": "markdown",
   "id": "d938d6b6",
   "metadata": {
    "collapsed": false,
    "jupyter": {
     "outputs_hidden": false
    }
   },
   "source": [
    "## Step 4: Run wetting simulation\n",
    "\n",
    "The `WettingSimulation` class from the `flowermd.modules.surface_wetting` module runs the wetting simulation. The `WettingSimulation` class is a subclass of the `Simulation` base class. The `WettingSimulation` class takes the following parameters:\n",
    "- `initial_state`: The snapshot containing the droplet and surface particles.\n",
    "- `forcefield`: The force field containing the droplet and surface force fields.\n",
    "- `fix_surface`: A boolean value that determines whether the surface particles are fixed during the simulation. If `True`, the surface particles are excluded from the integrator, meaning that they will not move during the simulation."
   ]
  },
  {
   "cell_type": "code",
   "execution_count": null,
   "id": "f383a19b",
   "metadata": {
    "collapsed": false,
    "jupyter": {
     "outputs_hidden": false
    }
   },
   "outputs": [],
   "source": [
    "from flowermd.modules.surface_wetting import WettingSimulation\n",
    "\n",
    "wetting_sim = WettingSimulation(\n",
    "    initial_state=wetting_snapshot,\n",
    "    forcefield=wetting_forcefield,\n",
    "    fix_surface=True,\n",
    "    gsd_file_name=\"wetting_trajectory.gsd\",\n",
    "    log_file_name=\"wetting_sim_data.txt\"\n",
    ")"
   ]
  },
  {
   "cell_type": "markdown",
   "id": "1bad3c08",
   "metadata": {
    "collapsed": false,
    "jupyter": {
     "outputs_hidden": false
    }
   },
   "source": [
    "Now we can start the wetting simulation by using the `run_NVT` method. The droplet slowly spreads on the surface, and eventually wets the surface."
   ]
  },
  {
   "cell_type": "markdown",
   "id": "8c74cac0-8f28-4c05-baee-00893b1eb886",
   "metadata": {},
   "source": [
    "<div class=\"alert alert-block alert-warning\"><b>Warning:</b> Due to the large system size, the following cells may take approximately 30 minutes to an hour to run.</div>"
   ]
  },
  {
   "cell_type": "code",
   "execution_count": null,
   "id": "6509db1e",
   "metadata": {
    "collapsed": false,
    "jupyter": {
     "outputs_hidden": false
    }
   },
   "outputs": [],
   "source": [
    "# Uncomment to run surface wetting simulation\n",
    "\n",
    "#wetting_sim.run_NVT(kT=3.0, n_steps=3e5, tau_kt=wetting_sim.dt*100)\n",
    "#wetting_sim.flush_writers()"
   ]
  },
  {
   "cell_type": "code",
   "execution_count": null,
   "id": "1ce60d1f",
   "metadata": {
    "collapsed": false,
    "jupyter": {
     "outputs_hidden": false
    }
   },
   "outputs": [],
   "source": [
    "sim_viewer = FresnelGSD(gsd_file=\"wetting_trajectory.gsd\", view_axis=(0, 1.5, 0), frame=-1)\n",
    "sim_viewer.view()"
   ]
  },
  {
   "cell_type": "code",
   "execution_count": null,
   "id": "d96aaab1-9b27-4493-a73d-dd648205b1dd",
   "metadata": {},
   "outputs": [],
   "source": [
    "# Uncomment to run the surface wetting simulation longer:\n",
    "\n",
    "#wetting_sim.run_NVT(kT=3.0, n_steps=2e5, tau_kt=wetting_sim.dt*100)\n",
    "#wetting_sim.flush_writers()"
   ]
  },
  {
   "cell_type": "code",
   "execution_count": null,
   "id": "1ec84021-fccb-4372-abdc-fa5158014564",
   "metadata": {},
   "outputs": [],
   "source": [
    "sim_viewer = FresnelGSD(gsd_file=\"wetting_trajectory.gsd\", view_axis=(0, 1.5, 0), frame=-1)\n",
    "sim_viewer.view()"
   ]
  },
  {
   "cell_type": "code",
   "execution_count": null,
   "id": "99622de0-4694-4a60-a5f2-35c09e4ba840",
   "metadata": {},
   "outputs": [],
   "source": []
  }
 ],
 "metadata": {
  "kernelspec": {
   "display_name": "Python 3 (ipykernel)",
   "language": "python",
   "name": "python3"
  },
  "language_info": {
   "codemirror_mode": {
    "name": "ipython",
    "version": 3
   },
   "file_extension": ".py",
   "mimetype": "text/x-python",
   "name": "python",
   "nbconvert_exporter": "python",
   "pygments_lexer": "ipython3",
   "version": "3.11.0"
  }
 },
 "nbformat": 4,
 "nbformat_minor": 5
}
