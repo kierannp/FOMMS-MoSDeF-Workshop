{
  "cells": [
    {
      "cell_type": "markdown",
      "metadata": {
        "id": "ITyUHJyYrHQ8"
      },
      "source": [
        "# Running a Polymer Welding Workflow with flowerMD"
      ]
    },
    {
      "cell_type": "markdown",
      "metadata": {
        "id": "ACjbqjg4rHQ9"
      },
      "source": [
        "## Overview:\n",
        "In this tutorial, we'll show a workflow that involves multiple steps of initializing a system and running simulations. In this case, part of initializing a system invovles running a simulation where the final structure of the simulaton serves as the input for the next round of system building and simulation.\n",
        "\n",
        "**Specifically, the goal of this workflow is to model the fusion joining (i.e. welding) of two separate pieces of bulk polymer melt**. This requires that we have an equilibrated polymer melt system with at least 1 flat surface (i.e. where the periodic boundaries are eliminated). For the purposes of this tutorial, we will refer to this as a \"slab\". Once a slab structure has been created, we will create an interface system where two slabs are joined together, and run a fusion welding simulation. Finally, the welded system will be tested using a tensile test simulation.\n",
        "\n",
        "In summary, this tutorial will go through the following workflow:\n",
        "\n",
        "1. Initialize a new polymer system using poly(ethylene)\n",
        "2. Run a simulation which yields a poly(ethylene) slab\n",
        "3. Build a system that is an interface between 2 poly(ethylene) slabs.\n",
        "4. Run a fusion welding simulation\n",
        "5. Run a tensile test simulation\n",
        "\n",
        "The first step utilizes the same base classes dicussed in the introduction tutorial where we pull from `flowermd.library.polymers` and `flowermd.base.system` to build up poly(ethylen) chains and create an initial system. However, the rest of the workflow will use `flowermd.modules.welding` and `flowermd.library.simulations.tensile`.  These two modules inheret from the base `flowermd.base.Simulation` class and contain additional features geared towards this specific workflow."
      ]
    },
    {
      "cell_type": "code",
      "execution_count": null,
      "metadata": {
        "id": "88jXVEAGrHQ-"
      },
      "outputs": [],
      "source": [
        "!pip install -q condacolab\n",
        "import condacolab\n",
        "condacolab.install()"
      ]
    },
    {
      "cell_type": "code",
      "execution_count": null,
      "metadata": {
        "id": "gBxmLdM_rHQ-"
      },
      "outputs": [],
      "source": [
        "!mamba install flowermd"
      ]
    },
    {
      "cell_type": "code",
      "execution_count": null,
      "metadata": {
        "id": "atra9TR4rHQ_"
      },
      "outputs": [],
      "source": [
        " import warnings\n",
        "warnings.filterwarnings('ignore')"
      ]
    },
    {
      "cell_type": "code",
      "execution_count": null,
      "metadata": {
        "id": "IDekNguorHQ_"
      },
      "outputs": [],
      "source": [
        "import flowermd\n",
        "\n",
        "from flowermd.library import PolyEthylene, OPLS_AA\n",
        "from flowermd import Pack\n",
        "from flowermd.modules.welding import SlabSimulation, Interface, WeldSimulation\n",
        "\n",
        "from cmeutils.visualize import FresnelGSD\n",
        "import gsd\n",
        "import matplotlib.pyplot as plt\n",
        "import numpy as np\n",
        "import pickle\n",
        "import unyt as u"
      ]
    },
    {
      "cell_type": "markdown",
      "metadata": {
        "id": "aaM2kDdhrHQ_"
      },
      "source": [
        "## Step 1: Creating a \"Slab\"\n",
        "In the next cell, we will initialize a new system with 30 chains of poly(ethylene) with each chain containing 12 repeat units. We'll use the `Pack` class from `flowermd.base.system`.\n",
        "\n",
        "**Note:**\n",
        "1. For the sake of speeding up the simulation, hydrogen atoms will be removed (i.e. we'll run a \"united atom\" simulation) and charges won't be included in the simulation forcefield."
      ]
    },
    {
      "cell_type": "code",
      "execution_count": null,
      "metadata": {
        "id": "P__0ld8HrHRA"
      },
      "outputs": [],
      "source": [
        "molecule = PolyEthylene(num_mols=30, lengths=12)\n",
        "\n",
        "system = Pack(\n",
        "    molecules=molecule,\n",
        "    density=1.1 * u.g/u.cm**3,\n",
        ")\n",
        "system.apply_forcefield(r_cut=2.5, force_field=OPLS_AA(), auto_scale=True,remove_charges=True, remove_hydrogens=True)"
      ]
    },
    {
      "cell_type": "markdown",
      "metadata": {
        "id": "1hdYWQqXrHRA"
      },
      "source": [
        "#### `flowermd.modules.welding.SlabSimulation`\n",
        "\n",
        "In this cell, you'll notice we are not using `flowermd.base.Simulation` but instead using `SlabSimulation`. This is a simulation class that inherits from `flowermd.base.Simulation` but adds two additional features:\n",
        "\n",
        "1. There is a parameter called `interface_axis` which determines which primary box face will be kept flat. This is required to create a interface system afterward.\n",
        "2. hoomd wall forces (`hoomd.md.external.wall.LJ`) are how we can elimiate one of the periodic boundaries, and create a flat surface. These forces are automatically added to the overall forcefield, and set up depending on the value used for `interface_axis`\n",
        "\n",
        "**Note:**  \n",
        "\n",
        "Since we are running multiple simulations we'll utilize python pickeling in order to re-use the Hoomd forcefield. There is a built-in method in the `Simulation` class which makes this step easier"
      ]
    },
    {
      "cell_type": "code",
      "execution_count": null,
      "metadata": {
        "id": "DAS7NX07rHRC"
      },
      "outputs": [],
      "source": [
        "sim = SlabSimulation.from_system(\n",
        "    system=system,\n",
        "    interface_axis=(1,0,0),\n",
        "    gsd_file_name=\"slab_x_interface.gsd\",\n",
        ")"
      ]
    },
    {
      "cell_type": "markdown",
      "metadata": {
        "id": "FBrjuCBTrHRC"
      },
      "source": [
        "Here, we can look at the complete set of forces that make up the forcefield. You'll notice that in addition to the typical forces of bonds, angles, dihedrals and pairs, there is also a `hoomd.md.external.wall.LJ` force as we would expect."
      ]
    },
    {
      "cell_type": "code",
      "execution_count": null,
      "metadata": {
        "id": "DqMg8n4XrHRC"
      },
      "outputs": [],
      "source": [
        "sim.forces"
      ]
    },
    {
      "cell_type": "markdown",
      "metadata": {
        "id": "2aPJ7H0wrHRC"
      },
      "source": [
        "If we look at the details of the wall force we will notice two features:\n",
        "1. Two walls are created where the origin for each is created along opposite ends of the x-axis of the simulation volume.\n",
        "2. The forces of the walls point inward along the same axis."
      ]
    },
    {
      "cell_type": "code",
      "execution_count": null,
      "metadata": {
        "id": "vaFeuCyCrHRD"
      },
      "outputs": [],
      "source": [
        "for wall in sim.forces[-1].walls:\n",
        "    print(wall)\n",
        "print()\n",
        "print(\"Simulation volume:\", sim.box_lengths_reduced)"
      ]
    },
    {
      "cell_type": "markdown",
      "metadata": {
        "id": "i6_B8b7ArHRD"
      },
      "source": [
        "Similar to the introduction tutorial, we will use the `run_update_volume` method to reach a desired bulk density of $1.2 \\dfrac{g}{cm^3}$. It is important we maintain the walls while the volume is updated. `flowermd.base.Simulation` checks for the presence of wall forces when using `run_update_volume` and ensures the wall positions updated along with the box."
      ]
    },
    {
      "cell_type": "code",
      "execution_count": null,
      "metadata": {
        "id": "LM9DRGfGrHRD"
      },
      "outputs": [],
      "source": [
        "target_box = flowermd.utils.get_target_box_mass_density(density=1.2*u.g/u.cm**3, mass=sim.mass.to(\"g\"))\n",
        "\n",
        "sim.run_update_volume(final_box_lengths=target_box, n_steps=5e4, kT=5.0, period=100, tau_kt=0.001)"
      ]
    },
    {
      "cell_type": "markdown",
      "metadata": {
        "id": "hyC4lbn0rHRD"
      },
      "source": [
        "Now that we reached the target bulk volume, we will run a `NVT` simulation using `run_NVT`. Normally, this step will be ran long enough to ensure the system reaches equilibration, but for the sake of this tutorial we'll run for a small number of steps."
      ]
    },
    {
      "cell_type": "code",
      "execution_count": null,
      "metadata": {
        "id": "xnvSyC0vrHRE"
      },
      "outputs": [],
      "source": [
        "sim.run_NVT(kT=5.0, n_steps=4e4, tau_kt=0.001)"
      ]
    },
    {
      "cell_type": "markdown",
      "metadata": {
        "id": "1axwYnQ1rHRE"
      },
      "source": [
        "We can use the `pickle_forcefield` method to save and re-use the hoomd forces generated by the `System` class. This saves time when running multiple simulations that use the same set of forces. First, before calling this method, we will remove the wall forces."
      ]
    },
    {
      "cell_type": "code",
      "execution_count": null,
      "metadata": {
        "id": "Crbsg15brHRE"
      },
      "outputs": [],
      "source": [
        "sim.remove_walls(wall_axis=(1,0,0))\n",
        "sim.pickle_forcefield()\n",
        "sim.flush_writers()"
      ]
    },
    {
      "cell_type": "markdown",
      "metadata": {
        "id": "ZO-hCTtmrHRE"
      },
      "source": [
        "#### Visualizing the polyethylene slab:\n",
        "\n",
        "We can use a util from `cmeutils` that utilizes the [**Fresnel**](https://fresnel.readthedocs.io/en/v0.13.5/) python package under the hood to let us view the simulation trajectory in this notebook.\n",
        "\n",
        "In this case, we are looking down the y-axis of the simulation volume, with the x-axis running left to right. This is the final frame of the simulation trajectory."
      ]
    },
    {
      "cell_type": "code",
      "execution_count": null,
      "metadata": {
        "id": "ZKELmkBCrHRE"
      },
      "outputs": [],
      "source": [
        "sim_viewer = FresnelGSD(gsd_file=\"slab_x_interface.gsd\", view_axis=(0, 1, 0), frame=-1)\n",
        "sim_viewer.view()"
      ]
    },
    {
      "cell_type": "markdown",
      "metadata": {
        "id": "sJMEJ7KUrHRE"
      },
      "source": [
        "You can see that particles are not passing through the simulation volume in the x-direction (left/right). In fact, we can see a small amount of space within the simulation volume along that direction where particles can't access, this is because of the repulsive force caused by the wall.\n",
        "\n",
        "Still, we can better visualize this using the unwrapped particle positions.\n",
        "\n",
        "**Note**\n",
        "We'll adjust the height paramter to zoom out our view since the particle positions are outside the simulation volume"
      ]
    },
    {
      "cell_type": "code",
      "execution_count": null,
      "metadata": {
        "id": "NmJW6knCrHRE"
      },
      "outputs": [],
      "source": [
        "sim_viewer.unwrap_positions = True\n",
        "sim_viewer.height += 3\n",
        "sim_viewer.view()"
      ]
    },
    {
      "cell_type": "markdown",
      "metadata": {
        "id": "80PhDJf0rHRE"
      },
      "source": [
        "We can change our view direction to look down the interface axis. We can see particles crossing the periodic boundaries in both the y direction (left/right) and z direction(up/down)."
      ]
    },
    {
      "cell_type": "code",
      "execution_count": null,
      "metadata": {
        "id": "3dRVdJ4qrHRF"
      },
      "outputs": [],
      "source": [
        "sim_viewer.view_axis = (1,0,0)\n",
        "sim_viewer.view()"
      ]
    },
    {
      "cell_type": "markdown",
      "metadata": {
        "id": "VhXPsiTrrHRF"
      },
      "source": [
        "## Step 2: Creating an interface from the slab\n",
        "\n",
        "Now that the slab simulation is finished, we will use the final structure as the input to create an interface system. This system initialization step differs from those in `flowermd.base.system` where the inputs are molecules, number of molecules, forcefield, etc. The welding module has its own class (`flowermd.modules.welding.Interface`) desiged to create interfaces from slab simulation GSD files. The `Interface` class creates a new `gsd.hoomd.Snapshot` where the slab system is duplicated and translated along the interface axis.\n",
        "\n",
        "If we look at the details of the new system we'll notice a couple of things:\n",
        "1. The number of particles has doubled, from 720 to 1440\n",
        "2. The box lengths along the interface axis are doubled while the other two box lengths remain the same"
      ]
    },
    {
      "cell_type": "code",
      "execution_count": null,
      "metadata": {
        "id": "PqqncJPerHRF"
      },
      "outputs": [],
      "source": [
        "interface = Interface(gsd_files=[\"slab_x_interface.gsd\"], interface_axis=(1, 0, 0), gap=0.05)\n",
        "\n",
        "print(type(interface.hoomd_snapshot))\n",
        "print(\"Slab number of particles:\", system.n_particles)\n",
        "print(\"Interface number of particles:\", interface.hoomd_snapshot.particles.N)\n",
        "print()\n",
        "print(\"Slab box lengths:\", sim.box_lengths_reduced)\n",
        "print(\"Interface box lengths:\", interface.hoomd_snapshot.configuration.box[:3])"
      ]
    },
    {
      "cell_type": "markdown",
      "metadata": {
        "id": "RR6UcX66rHRF"
      },
      "source": [
        "## Step 3: Running a welding simulation\n",
        "\n"
      ]
    },
    {
      "cell_type": "markdown",
      "metadata": {
        "id": "UFyDYRKurHRF"
      },
      "source": [
        "The HOOMD forcefield was initially created in the `flowermd.base.System` class. However, since the interface system is not initialized in the same way, we can reuse the HOOMD forces we saved in a previous cell (by using `Simulation.pickle_forcefield()`) and pass it directly in this simulation instance."
      ]
    },
    {
      "cell_type": "code",
      "execution_count": null,
      "metadata": {
        "id": "stFSNP5brHRF"
      },
      "outputs": [],
      "source": [
        "# Open and load the forcefield picke file\n",
        "with open(\"forcefield.pickle\", \"rb\") as f:\n",
        "    hoomd_forces = pickle.load(f)\n",
        "\n",
        "# Let's see what is stored in this pickle file\n",
        "for force in hoomd_forces:\n",
        "    print(force)"
      ]
    },
    {
      "cell_type": "markdown",
      "metadata": {
        "id": "s9ItQOqbrHRF"
      },
      "source": [
        "We'll initialize the `WeldSimulation` class in a similar way to initializing any simulation in flowerMD.\n",
        "\n",
        "Again, this particular simulation class has a `interface_axis` parameter that we will set depending on the interface axis used in the slab simulation.\n",
        "\n",
        "For the `initial_state`, we'll call the `hoomd_snapshot` attribute from the `Interface` system created previously. For the `forcefield` parameter we'll pass in the list of hoomd force objects we loaded with `pickle`"
      ]
    },
    {
      "cell_type": "code",
      "execution_count": null,
      "metadata": {
        "id": "mcn4CP1OrHRG"
      },
      "outputs": [],
      "source": [
        "weld_sim = WeldSimulation(\n",
        "    initial_state=interface.hoomd_snapshot,\n",
        "    forcefield=hoomd_forces,\n",
        "    interface_axis=(1, 0, 0),\n",
        "    gsd_file_name=\"weld.gsd\",\n",
        "    log_file_name=\"weld_log.txt\",\n",
        "    log_write_freq=500,\n",
        "    dt=0.0003\n",
        ")"
      ]
    },
    {
      "cell_type": "markdown",
      "metadata": {
        "id": "MhAPn9aVrHRG"
      },
      "source": [
        "Similar to `SlabSimulation` the `WeldSimulaton` class also adds walls along the interface axis. This is because we only want diffusion and mixing to occur along one direction of the interface. We can see that a `hoomd.md.external.wall.LJ` object now exists in `weld_sim.forces` and the wall force details are aligned with the box geometry and `interface_axis` parameter."
      ]
    },
    {
      "cell_type": "code",
      "execution_count": null,
      "metadata": {
        "id": "_XmSObANrHRG"
      },
      "outputs": [],
      "source": [
        "weld_sim.forces"
      ]
    },
    {
      "cell_type": "code",
      "execution_count": null,
      "metadata": {
        "id": "ab_VDF5HrHRG"
      },
      "outputs": [],
      "source": [
        "for wall in weld_sim.forces[-1].walls:\n",
        "    print(wall)\n",
        "print()\n",
        "print(\"Simulation volume:\", weld_sim.box_lengths_reduced)"
      ]
    },
    {
      "cell_type": "markdown",
      "metadata": {
        "id": "8qL1o1JbrHRH"
      },
      "source": [
        "#### Running the weld simulation\n",
        "This process of polymer chain diffusion across the interface is slow, so for the purposes of this tutorial we likely won't be able to run long enough to see significant diffusion and entanglement across the interface.\n",
        "\n",
        "**Note:**  \n",
        "Our system size has doubled compared to the slab simulation, so the TPS (time steps per second) has significantly decreased.\n",
        "This should have a TPS around 300, so 20,000 steps will take about 1 minute to run. You can change the value for `n_steps` accordingly.  \n",
        "\n",
        "For the sake of the tutorial, to achieve as much diffusion as possible in a short amount of time, we are also using a very high temperature.\n"
      ]
    },
    {
      "cell_type": "code",
      "execution_count": null,
      "metadata": {
        "id": "dFeL_kbJrHRH"
      },
      "outputs": [],
      "source": [
        "weld_sim.run_NVT(kT=10.0, n_steps=7e4, tau_kt=0.001)\n",
        "cooling_ramp = weld_sim.temperature_ramp(n_steps=2e4, kT_start=10.0, kT_final=2.0)\n",
        "weld_sim.run_NVT(kT=cooling_ramp, n_steps=2e4, tau_kt=0.001)\n",
        "weld_sim.save_restart_gsd(\"weld_restart.gsd\")\n",
        "weld_sim.flush_writers()"
      ]
    },
    {
      "cell_type": "markdown",
      "metadata": {
        "id": "OGKq9WzhrHRH"
      },
      "source": [
        "#### Viewing the interface simulation before and after welding\n",
        "\n",
        "We can load the GSD file output by `weld_sim` and view the first and last frames.\n",
        "Here, we set the particle colors based on their starting position relative to the interface.\n",
        "In the first frame, we can see the interface system now consists of two slabs, with a small gap between them along the interface axis."
      ]
    },
    {
      "cell_type": "code",
      "execution_count": null,
      "metadata": {
        "id": "85Rruq3KrHRH"
      },
      "outputs": [],
      "source": [
        "sim_viewer = FresnelGSD(gsd_file=\"weld.gsd\", view_axis=(0, 1, 0), frame=0, height=12)\n",
        "weld_colors = np.zeros_like(sim_viewer.positions)\n",
        "weld_colors[:weld_colors.shape[0]//2 + 1] = np.array([0.5, 0.25, 0.5])\n",
        "weld_colors[weld_colors.shape[0]//2 + 1:] = np.array([0.5, 0.1, 0.1])\n",
        "sim_viewer.colors = weld_colors\n",
        "sim_viewer.view(width=500, height=500)"
      ]
    },
    {
      "cell_type": "markdown",
      "metadata": {
        "id": "Y_DV39uzrHRI"
      },
      "source": [
        "After running for a short amount of time, we can see the gap at the interface is gone."
      ]
    },
    {
      "cell_type": "code",
      "execution_count": null,
      "metadata": {
        "id": "lPd1v23DrHRI"
      },
      "outputs": [],
      "source": [
        "sim_viewer.frame = -1\n",
        "sim_viewer.height = 12\n",
        "sim_viewer.view_axis = (0, 1, 0)\n",
        "sim_viewer.view(width=500, height=500)"
      ]
    },
    {
      "cell_type": "markdown",
      "metadata": {
        "id": "-fG0t55_rHRI"
      },
      "source": [
        "While we can't run long enough in this tutorial for significant chain diffusion to occur, it might still be interesting to look at the change in the Lennard Jones pair energy as the two slabs begin to adhere together. In the cell below, we plot the per-particle pair energy vs time step."
      ]
    },
    {
      "cell_type": "code",
      "execution_count": null,
      "metadata": {
        "id": "OVFOOujnrHRI"
      },
      "outputs": [],
      "source": [
        "sim_data = np.genfromtxt(\"weld_log.txt\", names=True)\n",
        "lj_energy = sim_data[\"mdpairLJenergy\"]\n",
        "time_step = sim_data[\"flowermdmodulesweldingWeldSimulationtimestep\"]\n",
        "plt.plot(time_step, lj_energy/interface.hoomd_snapshot.particles.N, linewidth=3)\n",
        "plt.ylabel(\"$\\dfrac{\\epsilon}{N}$\", fontsize=15)\n",
        "plt.xlabel(\"Time step\", fontsize=15)"
      ]
    },
    {
      "cell_type": "markdown",
      "metadata": {
        "id": "uYp1LTplrHRI"
      },
      "source": [
        "# Step 4: Running a tensile test simulation"
      ]
    },
    {
      "cell_type": "code",
      "execution_count": null,
      "metadata": {
        "id": "eUdWVV_zrHRI"
      },
      "outputs": [],
      "source": [
        "from flowermd.library.simulations.tensile import Tensile"
      ]
    },
    {
      "cell_type": "code",
      "execution_count": null,
      "metadata": {
        "id": "1YujdqcfrHRK"
      },
      "outputs": [],
      "source": [
        "# Open and load the forcefield picke file\n",
        "with open(\"forcefield.pickle\", \"rb\") as f:\n",
        "    hoomd_forces = pickle.load(f)\n",
        "\n",
        "tensile_sim = Tensile(\n",
        "    initial_state=\"weld_restart.gsd\",\n",
        "    forcefield=hoomd_forces,\n",
        "    tensile_axis=(1,0,0),\n",
        "    gsd_file_name=\"tensile.gsd\",\n",
        "    gsd_write_freq=1000,\n",
        "    log_file_name=\"tensile_log.txt\",\n",
        "    log_write_freq=500,\n",
        "    fix_ratio=0.30\n",
        ")"
      ]
    },
    {
      "cell_type": "markdown",
      "metadata": {
        "id": "sgzaTSHbrHRK"
      },
      "source": [
        "The `Tensile` simulation class has a new run method, called `run_tensile`. This run method has 2 important parameters.\n",
        "1. strain: This determines"
      ]
    },
    {
      "cell_type": "code",
      "execution_count": null,
      "metadata": {
        "scrolled": true,
        "id": "gWbyT04LrHRK"
      },
      "outputs": [],
      "source": [
        "tensile_sim.run_tensile(n_steps=1e5, strain=0.30, period=500, kT=2.0, tau_kt=0.001)\n",
        "tensile_sim.flush_writers()"
      ]
    },
    {
      "cell_type": "markdown",
      "metadata": {
        "id": "JnWM_qe5rHRK"
      },
      "source": [
        "The first frame of the tensile pulling simulation is the last frame we viewed above in the welding simulation.\n",
        "Let's take a look at the system after the slabs were pulled apart."
      ]
    },
    {
      "cell_type": "code",
      "execution_count": null,
      "metadata": {
        "id": "UdFE7sNZrHRL"
      },
      "outputs": [],
      "source": [
        "sim_viewer = FresnelGSD(gsd_file=\"tensile.gsd\", view_axis=(0, 1, 0), frame=0, height=12)\n",
        "weld_colors = np.zeros_like(sim_viewer.positions)\n",
        "weld_colors[:weld_colors.shape[0]//2 + 1] = np.array([0.5, 0.25, 0.5])\n",
        "weld_colors[weld_colors.shape[0]//2 + 1:] = np.array([0.5, 0.1, 0.1])\n",
        "sim_viewer.colors = weld_colors\n",
        "sim_viewer.view(width=500, height=500)"
      ]
    },
    {
      "cell_type": "code",
      "execution_count": null,
      "metadata": {
        "id": "MLjia7MNrHRL"
      },
      "outputs": [],
      "source": [
        "sim_viewer.frame = -1\n",
        "sim_viewer.height = 22\n",
        "sim_viewer.view(width=500, height=500)"
      ]
    },
    {
      "cell_type": "code",
      "execution_count": null,
      "metadata": {
        "id": "ptD_ssghrHRM"
      },
      "outputs": [],
      "source": [
        "trajectory = gsd.hoomd.open(\"tensile.gsd\")\n",
        "initial_x_len = tensile_sim.initial_length\n",
        "\n",
        "fig = plt.figure()\n",
        "for snap in trajectory:\n",
        "    new_x = snap.configuration.box[0]\n",
        "    strain = (new_x - initial_x_len) / initial_x_len\n",
        "    P_tensor = snap.log[\"md/compute/ThermodynamicQuantities/pressure_tensor\"]\n",
        "    stress_x = -P_tensor[0]\n",
        "    plt.plot(strain, stress_x, \"ko\")\n",
        "\n",
        "plt.show()"
      ]
    },
    {
      "cell_type": "code",
      "execution_count": null,
      "metadata": {
        "id": "MPoLM8WbrHRM"
      },
      "outputs": [],
      "source": [
        "fig = plt.figure()\n",
        "for snap in trajectory:\n",
        "    new_x = snap.configuration.box[0]\n",
        "    strain = (new_x - initial_x_len) / initial_x_len\n",
        "    energy = snap.log[\"md/pair/LJ/energy\"]\n",
        "    plt.plot(strain, energy/snap.particles.N, \"ro\")\n",
        "\n",
        "plt.show()"
      ]
    },
    {
      "cell_type": "code",
      "execution_count": null,
      "metadata": {
        "id": "BKZ1ElQ7rHRM"
      },
      "outputs": [],
      "source": []
    }
  ],
  "metadata": {
    "kernelspec": {
      "display_name": "Python 3 (ipykernel)",
      "language": "python",
      "name": "python3"
    },
    "language_info": {
      "codemirror_mode": {
        "name": "ipython",
        "version": 3
      },
      "file_extension": ".py",
      "mimetype": "text/x-python",
      "name": "python",
      "nbconvert_exporter": "python",
      "pygments_lexer": "ipython3",
      "version": "3.11.0"
    },
    "colab": {
      "provenance": []
    }
  },
  "nbformat": 4,
  "nbformat_minor": 0
}