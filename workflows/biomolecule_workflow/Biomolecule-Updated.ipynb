{
  "cells": [
    {
      "cell_type": "markdown",
      "id": "0ecacf64",
      "metadata": {
        "id": "0ecacf64"
      },
      "source": [
        "<a href=\"https://colab.research.google.com/github/mosdef-hub/CECAM-MoSDeF-Workshop/blob/main/biomolecule_workflow/Biomolecule-Workflow.ipynb\" target=\"_parent\"><img src=\"https://colab.research.google.com/assets/colab-badge.svg\" alt=\"Open In Colab\"/></a>"
      ]
    },
    {
      "cell_type": "markdown",
      "id": "c678f981",
      "metadata": {
        "id": "c678f981"
      },
      "source": [
        "# MoSDeF Biomolecule Workflow\n",
        "\n",
        "## Tutorial summary\n",
        "This tutorial aims to familiarize a molecular simulationist on the ways to create a complex molecular system using using the [MoSDeF](https://github.com/mosdef-hub) framework. In addition, after creating the inital system we demonstrate how to identify missing forcefield parameters and parameterize a system using [Foyer](https://github.com/mosdef-hub/foyer) and [GMSO](https://github.com/mosdef-hub/gmso).  This demonstrates the strengths of using the [MoSDeF](https://github.com/mosdef-hub) simulation framework for creating modular, complex, and custom molecular systems for computational chemistry simulations.\n",
        "\n",
        "## Learning Objectives:\n",
        "* How to build up a molecule of interest\n",
        "* How to use visualization to identify specific atoms in a [mBuild.Compound](https://github.com/mosdef-hub/mbuild/blob/468028b5d0185c7325f91ee4fce7e50e73d1306d/mbuild/compound.py#L57)\n",
        "* How to use gmso to debug parameterization\n",
        "* How to add missing parameters to forcefield xmls\n",
        "---"
      ]
    },
    {
      "cell_type": "markdown",
      "id": "c4465df4",
      "metadata": {
        "id": "c4465df4"
      },
      "source": [
        "## Set up environment on Google Colab\n",
        "---"
      ]
    },
    {
      "cell_type": "code",
      "execution_count": null,
      "id": "ced4730d",
      "metadata": {
        "id": "ced4730d"
      },
      "outputs": [],
      "source": [
        "!pip install -q condacolab\n",
        "import condacolab\n",
        "condacolab.install_miniforge()"
      ]
    },
    {
      "cell_type": "code",
      "execution_count": null,
      "id": "4c0c8fae",
      "metadata": {
        "id": "4c0c8fae"
      },
      "outputs": [],
      "source": [
        "import condacolab\n",
        "condacolab.check()\n",
        "\n",
        "!conda install mamba\n",
        "!mamba install anaconda-client -n base\n",
        "\n",
        "!git clone https://github.com/mosdef-hub/CECAM-MoSDeF-Workshop\n",
        "\n",
        "!git clone https://github.com/kierannp/protein_builder.git\n",
        "%cd protein_builder\n",
        "!pip install .\n",
        "%cd ..\n",
        "!pip install --upgrade ipykernel\n",
        "\n",
        "!mamba install -c conda-forge py3Dmol nglview mbuild hoomd unyt forcefield-utilities fresnel gsd openbabel\n",
        "!mamba install gmso=0.11.2"
      ]
    },
    {
      "cell_type": "code",
      "execution_count": null,
      "id": "ef6a3454",
      "metadata": {
        "id": "ef6a3454"
      },
      "outputs": [],
      "source": [
        "# Import Libraries\n",
        "import mbuild as mb\n",
        "import gmso\n",
        "import numpy as np"
      ]
    },
    {
      "cell_type": "markdown",
      "id": "51e058dc",
      "metadata": {
        "id": "51e058dc"
      },
      "source": [
        "## Exercise 1: Building `mBuild.Compounds`"
      ]
    },
    {
      "cell_type": "markdown",
      "id": "d2ab3209",
      "metadata": {},
      "source": [
        "For this exercise we want you to figure out how to build two molecules (glycine and alanine), save them to a variable, and visualize the molecule. HINT: The smiles for glycine is C(C(=O)O)N and the smiles for alanine is CC(C(=O)O)N, how do you create a molecule in `mBuild` from smiles?"
      ]
    },
    {
      "cell_type": "code",
      "execution_count": null,
      "id": "900afe4a",
      "metadata": {},
      "outputs": [],
      "source": [
        "# # Exercise 1\n",
        "glycine = ???\n",
        "alanine = ???"
      ]
    },
    {
      "cell_type": "markdown",
      "id": "c7cd8d96",
      "metadata": {},
      "source": [
        "### <font color=\"red\"><b>Exercise 1 Answer</b></font>\n",
        "\n",
        "<details>\n",
        "    <summary>Click once to show answer!</summary>\n",
        "    \n",
        "    class Glycine(mb.Compound):\n",
        "        def __init__(self):\n",
        "            super(Glycine, self).__init__()\n",
        "            glycine = mb.load(\"C(C(=O)O)N\",smiles=True)\n",
        "            self.add(glycine)\n",
        "            self.name = \"Glycine\"\n",
        "\n",
        "    class Alanine(mb.Compound):\n",
        "        def __init__(self):\n",
        "            super(Alanine, self).__init__()\n",
        "            alanine = mb.load('CC(C(=O)O)N',smiles=True)\n",
        "            self.add(alanine)\n",
        "            self.name = \"Alanine\"\n",
        "\n",
        "    glycine = Glycine()\n",
        "    alanine = Alanine()\n",
        "\n",
        "    display(glycine.visualize())\n",
        "    display(alanine.visualize())\n",
        "</details>"
      ]
    },
    {
      "cell_type": "markdown",
      "id": "bf74d733",
      "metadata": {},
      "source": [
        "# Exercise 2: Building molecular systems"
      ]
    },
    {
      "cell_type": "markdown",
      "id": "e95b3b9a",
      "metadata": {},
      "source": [
        "For this exercise we want you to build a glycine-alanine protein, save to a variable, and visualize the protein. We suggest that you utilize `NGLView` (see code block below) to identify which of the atoms in glycine and alanine need to be removed inorder to create room for the peptide bond. After this, you need to identify the indices where the peptide bond between the carboxyl and amino group will be. "
      ]
    },
    {
      "cell_type": "code",
      "execution_count": 7,
      "id": "c54b4915",
      "metadata": {},
      "outputs": [
        {
          "data": {
            "application/vnd.jupyter.widget-view+json": {
              "model_id": "0a6ebc05708c4f6d9688b85c2860068a",
              "version_major": 2,
              "version_minor": 0
            },
            "text/plain": [
              "NGLWidget()"
            ]
          },
          "metadata": {},
          "output_type": "display_data"
        }
      ],
      "source": [
        "#these line enable the nglviewer in colab\n",
        "# from google.colab import output\n",
        "# output.enable_custom_widget_manager()\n",
        "\n",
        "glycine.visualize(backend='NGLView')"
      ]
    },
    {
      "cell_type": "markdown",
      "id": "5a0ba083",
      "metadata": {
        "id": "5a0ba083"
      },
      "source": [
        "#### Protein Background\n",
        "---"
      ]
    },
    {
      "cell_type": "markdown",
      "id": "33143ce4",
      "metadata": {
        "id": "33143ce4"
      },
      "source": [
        "Amino acids have both amino and carboxylic acid functional groups and possess a generic structure as seen below:\n",
        "\n",
        "![image info](https://github.com/mosdef-hub/CECAM-MoSDeF-Workshop/blob/main/images/Amino_acid_generic_structure.png?raw=1)"
      ]
    },
    {
      "cell_type": "markdown",
      "id": "dee36054",
      "metadata": {
        "id": "dee36054"
      },
      "source": [
        "Proteins are polypeptide polymers that are held together by peptide bonds occuring between amino acids. Proteins have ends specificed as N-terminus and C-terminus, the green and blue molecular regions in the image below, respectively."
      ]
    },
    {
      "cell_type": "markdown",
      "id": "21fd5bf9",
      "metadata": {
        "id": "21fd5bf9"
      },
      "source": [
        "<img src=\"https://github.com/mosdef-hub/CECAM-MoSDeF-Workshop/blob/main/images/Tetrapeptide_structural_formulae_v.1.png?raw=1\" alt=\"C/N-terminus\" width=\"600\"/>"
      ]
    },
    {
      "cell_type": "code",
      "execution_count": null,
      "id": "e468e1dc",
      "metadata": {},
      "outputs": [],
      "source": [
        "# Exercise 2\n",
        "glycine.remove(glycine[???])\n",
        "alanine.remove(alanine[???])\n",
        "                       \n",
        "N_port = mb.Port(\n",
        "    anchor=current_acid.amine, \n",
        "    orientation=[0, 1, -1], \n",
        "    separation=0.1\n",
        ")\n",
        "\n",
        "mb.force_overlap(\n",
        "    move_this=C_terminal,\n",
        "    from_positions=C_terminal['head'],\n",
        "    to_positions=N_terminal['tail']\n",
        ")"
      ]
    },
    {
      "cell_type": "markdown",
      "id": "60e2ae09",
      "metadata": {
        "id": "60e2ae09"
      },
      "source": [
        "### <font color=\"red\"><b>Exercise 2 Answer</b></font>\n",
        "\n",
        "<details>\n",
        "    <summary>Click once to show answer!</summary>\n",
        "\n",
        "\n",
        "</details>"
      ]
    },
    {
      "cell_type": "markdown",
      "id": "0a549c40",
      "metadata": {
        "id": "0a549c40"
      },
      "source": [
        "# Exercise 3: Solvating our system"
      ]
    },
    {
      "cell_type": "markdown",
      "id": "775e359f",
      "metadata": {
        "id": "775e359f"
      },
      "source": [
        "Now that we have our protein built we can solvate it to see how it behaves."
      ]
    },
    {
      "cell_type": "code",
      "execution_count": null,
      "id": "98b6f35b",
      "metadata": {
        "id": "98b6f35b"
      },
      "outputs": [],
      "source": [
        "# control energy minimization\n",
        "chain.energy_minimize(steps=50)\n",
        "chain.visualize()"
      ]
    },
    {
      "cell_type": "code",
      "execution_count": null,
      "id": "a11277bd",
      "metadata": {
        "id": "a11277bd"
      },
      "outputs": [],
      "source": [
        "# Exercise 3\n",
        "water = mb.load(???, smiles=True)\n",
        "water.name=\"H2O\"\n",
        "packed_box = mb.fill_box([???, ???], n_compounds=[1,1000], box=[10,10,10])\n",
        "print(packed_box.print_hierarchy(show_tree=False))\n",
        "packed_box.visualize()"
      ]
    },
    {
      "cell_type": "code",
      "execution_count": null,
      "id": "dd4bfabf",
      "metadata": {
        "id": "dd4bfabf"
      },
      "outputs": [],
      "source": [
        "# save out and reload current state for future use\n",
        "packed_box.save(\"solvated_protein.pdb\", overwrite=True)\n",
        "reloaded_pdb = mb.load(\"solvated_protein.pdb\") #xyz, gro, lammpsdata, sdf, mol2, hoomdxml, json"
      ]
    },
    {
      "cell_type": "code",
      "execution_count": null,
      "id": "56a762fe",
      "metadata": {
        "id": "56a762fe"
      },
      "outputs": [],
      "source": [
        "! head \"solvated_protein.pdb\""
      ]
    },
    {
      "cell_type": "markdown",
      "id": "251d12fa",
      "metadata": {},
      "source": [
        "### <font color=\"red\"><b>Exercise 3 Answer</b></font>\n",
        "\n",
        "<details>\n",
        "    <summary>Click once to show answer!</summary>\n",
        "\n",
        "        water = mb.load(\"O\", smiles=True)\n",
        "        water.name=\"H2O\"\n",
        "        packed_box = mb.fill_box([chain, water], n_compounds=[1,1000], box=[10,10,10])\n",
        "        print(packed_box.print_hierarchy(show_tree=False))\n",
        "        packed_box.visualize()\n",
        "</details>"
      ]
    },
    {
      "cell_type": "markdown",
      "id": "10f2b00c",
      "metadata": {
        "id": "10f2b00c"
      },
      "source": [
        "# Exercise 4: Forcefielding our system"
      ]
    },
    {
      "cell_type": "markdown",
      "id": "6ceaee50",
      "metadata": {},
      "source": [
        "For this exercise we want you to load the forcefield parameters for our water (SPCE) and our small protein, then apply them to our system using `gmso`"
      ]
    },
    {
      "cell_type": "code",
      "execution_count": null,
      "id": "211e096d",
      "metadata": {
        "id": "211e096d"
      },
      "outputs": [],
      "source": [
        "gaff_forcefield = gmso.ForceField(\"./CECAM-MoSDeF-Workshop/forcefields/gaff.xml\")\n",
        "spce_forcefield = gmso.ForceField(\"./CECAM-MoSDeF-Workshop/forcefields/spce.xml\")"
      ]
    },
    {
      "cell_type": "code",
      "execution_count": null,
      "id": "0e49a6b0",
      "metadata": {
        "id": "0e49a6b0"
      },
      "outputs": [],
      "source": [
        "# Exercise 4\n",
        "from gmso.parameterization import apply\n",
        "\n",
        "gmso_top = packed_box.to_gmso()\n",
        "forcefield_matchingDict = {\"Protein\":???, \"H2O\":???}\n",
        "gmso_top = packed_box.to_gmso()\n",
        "parameterized_top = apply(\n",
        "    gmso_top, forcefield_matchingDict, identify_connections=True,\n",
        ")"
      ]
    },
    {
      "cell_type": "markdown",
      "id": "aa45087a",
      "metadata": {},
      "source": [
        "### <font color=\"red\"><b>Exercise 4 Answer</b></font>\n",
        "\n",
        "<details>\n",
        "    <summary>Click once to show answer!</summary>\n",
        "\n",
        "        from gmso.parameterization import apply\n",
        "\n",
        "        gmso_top = packed_box.to_gmso()\n",
        "        forcefield_matchingDict = {\"Protein\":gaff_forcefield, \"H2O\":spce_forcefield}\n",
        "        gmso_top = packed_box.to_gmso()\n",
        "        parameterized_top = apply(\n",
        "            gmso_top, forcefield_matchingDict, identify_connections=True,\n",
        "        )\n",
        "</details>"
      ]
    },
    {
      "cell_type": "markdown",
      "id": "728839ff",
      "metadata": {
        "id": "728839ff"
      },
      "source": [
        "### What Happened\n",
        "This error indicates that have particles in our mbuild system that are missing parameters in our xml forcefield file. We will show how to correct this below."
      ]
    },
    {
      "cell_type": "markdown",
      "id": "40977b3e",
      "metadata": {
        "id": "40977b3e"
      },
      "source": [
        "# Exercise 5: Forcefield correction\n",
        "\n",
        "See if you can figure out which lines to add to the forcefield file (gaff.xml) to get this to properly parameterize our system. <br><br>\n",
        "*Hint: We suggest substituting the parameters (c1,c3,n3) for the (c1, c3, n2) parameters and (c3,c2,oh) for the (c3, c1, oh) parameters*"
      ]
    },
    {
      "cell_type": "code",
      "execution_count": null,
      "id": "fb8dccc7",
      "metadata": {},
      "outputs": [],
      "source": [
        "# Exercise 5\n",
        "import unyt as u\n",
        "from gmso.lib.potential_templates import PotentialTemplateLibrary  \n",
        "\n",
        "ff = gmso.ForceField(\"./CECAM-MoSDeF-Workshop/forcefields/gaff.xml\")        \n",
        "templates = PotentialTemplateLibrary()  \n",
        "harmonic_angle = templates[\"HarmonicAnglePotential\"]\n",
        "expression = harmonic_angle.expression  \n",
        "name = harmonic_angle.name\n",
        "variables = harmonic_angle.independent_variables     \n",
        "first_params = {  \n",
        "    \"k\": 562.3296 * u.kJ/u.mol/u.rad**2, #these parameters were substituted from (c1,c3,n3) from the link below\n",
        "    \"theta_eq\":1.9675096657732076*u.rad\n",
        "}\n",
        "second_params = ???\n",
        "        \n",
        "first_angle_type = gmso.AngleType(        \n",
        "    name=name, parameters=first_params,       \n",
        "    expression=expression,\n",
        "    independent_variables=variables,    \n",
        "    member_classes = (\"c1\", \"c3\", \"n2\")\n",
        ")\n",
        "second_angle_type = ???\n",
        "\n",
        "ff.angle_types[\"c1~c3~n2\"] = first_angle_type\n",
        "ff.angle_types[\"c3~c1~oh\"] = ??? \n",
        "ff.version = 1.1 # updated version since we made modifications to the forcefield\n",
        "ff.name = \"gaff with added parameters from https://github.com/choderalab/ambermini/blob/master/share/amber/dat/leap/parm/gaff.dat\"\n",
        "ff.to_xml(\"gaff_added.xml\")"
      ]
    },
    {
      "cell_type": "markdown",
      "id": "ebd55c0a",
      "metadata": {
        "id": "ebd55c0a"
      },
      "source": [
        "### <font color=\"red\"><b>Exercise 5 Answer</b></font>\n",
        "\n",
        "\n",
        "<details>\n",
        "    <summary>Click once to show the answer!</summary>\n",
        "      \n",
        "      import unyt as u\n",
        "      from gmso.lib.potential_templates import PotentialTemplateLibrary \n",
        "      ff = gmso.ForceField(\"./CECAM-MoSDeF-Workshop/forcefields/gaff.xml\")        \n",
        "      templates = PotentialTemplateLibrary()  \n",
        "      harmonic_angle = templates[\"HarmonicAnglePotential\"]\n",
        "      expression = harmonic_angle.expression  \n",
        "      name = harmonic_angle.name\n",
        "      variables = harmonic_angle.independent_variables     \n",
        "      first_params = {  \n",
        "          \"k\": 562.3296 * u.kJ/u.mol/u.rad**2,\n",
        "          \"theta_eq\":1.9675096657732076*u.rad\n",
        "      }\n",
        "      second_params = {  \n",
        "          \"k\": 571.5344 * u.kJ/u.mol/u.rad**2,\n",
        "          \"theta_eq\":2.0099211665966696*u.rad\n",
        "      }\n",
        "                \n",
        "      first_angle_type = gmso.AngleType(        \n",
        "          name=name, parameters=first_params,       \n",
        "          expression=expression,\n",
        "          independent_variables=variables,    \n",
        "          member_classes = (\"c1\", \"c3\", \"n2\")\n",
        "      )\n",
        "      second_angle_type = gmso.AngleType(        \n",
        "          name=name, parameters=second_params,       \n",
        "          expression=expression,\n",
        "          independent_variables=variables,    \n",
        "          member_classes = (\"c3\", \"c1\", \"oh\")\n",
        "      )\n",
        "\n",
        "      ff.angle_types[\"c1~c3~n2\"] = first_angle_type\n",
        "      ff.angle_types[\"c3~c1~oh\"] = second_angle_type          \n",
        "      ff.version = 1.1                                                                                                                                          ff.name = \"gaff with added parameters from https://github.com/choderalab/ambermini/blob/master/share/amber/dat/leap/parm/gaff.dat\"\n",
        "      ff.to_xml(\"gaff_added.xml\")\n",
        "\n",
        "</details>"
      ]
    },
    {
      "cell_type": "markdown",
      "id": "c9bdeada",
      "metadata": {
        "id": "c9bdeada"
      },
      "source": [
        "## Conclusion\n",
        "---"
      ]
    },
    {
      "cell_type": "markdown",
      "id": "994b050e",
      "metadata": {
        "id": "994b050e"
      },
      "source": [
        "We are assuming that you saved the new forcefield xml as gaff2.xml. If you weren't able to get the forcefield working please use gaff_ANSWER.xml."
      ]
    },
    {
      "cell_type": "code",
      "execution_count": null,
      "id": "435a0aae",
      "metadata": {
        "id": "435a0aae"
      },
      "outputs": [],
      "source": [
        "gaff_forcefield = gmso.ForceField(\"./CECAM-MoSDeF-Workshop/forcefields/gaff_ANSWER.xml\")\n",
        "gmso_top = packed_box.to_gmso()\n",
        "forcefield_matchingDict = {\"Protein\":gaff_forcefield, \"H2O\":spce_forcefield}\n",
        "parameterized_top = apply(\n",
        "    gmso_top, forcefield_matchingDict, identify_connections=True,\n",
        ")"
      ]
    }
  ],
  "metadata": {
    "colab": {
      "provenance": []
    },
    "kernelspec": {
      "display_name": "Python 3 (ipykernel)",
      "language": "python",
      "name": "python3"
    },
    "language_info": {
      "codemirror_mode": {
        "name": "ipython",
        "version": 3
      },
      "file_extension": ".py",
      "mimetype": "text/x-python",
      "name": "python",
      "nbconvert_exporter": "python",
      "pygments_lexer": "ipython3",
      "version": "3.8.17"
    }
  },
  "nbformat": 4,
  "nbformat_minor": 5
}
