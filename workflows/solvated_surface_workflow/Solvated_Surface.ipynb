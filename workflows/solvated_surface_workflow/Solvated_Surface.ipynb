{
 "cells": [
  {
   "cell_type": "markdown",
   "id": "1bfc81ba",
   "metadata": {
    "id": "1bfc81ba"
   },
   "source": [
    "<a href=\"https://colab.research.google.com/github/mosdef-hub/CECAM-MoSDeF-Workshop/blob/main/solvated_surface_workflow/Solvated_Surface.ipynb\" target=\"_parent\"><img src=\"https://colab.research.google.com/assets/colab-badge.svg\" alt=\"Open In Colab\"/></a>"
   ]
  },
  {
   "cell_type": "markdown",
   "id": "06f2e81c",
   "metadata": {
    "id": "06f2e81c"
   },
   "source": [
    "# MoSDeF-Signac Tutorial\n",
    "## Solvated Surface Screening\n",
    "---\n",
    "\n",
    "## Tutorial summary\n",
    "This tutorial aims to familiarize a molecular simulations researcher on the ways to\n",
    "control a workflow managed by _[Signac.](https://docs.signac.io/en/latest/)_ This is\n",
    "an important tool for accessing and storing workflow metadata such that the workflow\n",
    "is standardized and [extensible](https://doi.org/10.1080/00268976.2020.1742938), as\n",
    "part of the TRUE nature of computational research. The importance of managing a complex\n",
    "workflow, such as one shown in the figure below, is becoming increasingly vital for\n",
    "well organized research.\n",
    "\n",
    "<img src=\"https://github.com/CalCraven/CECAM-MoSDeF-Workshop/blob/solvated-surface-wkflw/images/chemistry-workflow.png?raw=1\" alt=\"Computational Chemistry Workflow from10.1080/00268976.2020.1742938\" width=\"700\"/>\n",
    "\n",
    "The following workflow will show how to:\n",
    "1. Calculate the interfacial structures of different three point water models. Water models include:\n",
    "    - SPC/E\n",
    "    - TIP3P-original\n",
    "    - OPC\n",
    "    - Note that 4-point water models are soon to be supported generally by virtual sites.\n",
    "2. Build functional workflows that pull specifications from _Signac_ `job` criteria.\n",
    "3. Run _HOOMD-blue_ simulations and process data in a standardized format for easy extension of the project aims.\n",
    "\n",
    "## Learning Objectives\n",
    "1. How to operate/set up a _[Signac](https://signac.io/)_ workflow.\n",
    "2. Using _[mBuild](https://mbuild.mosdef.org/en/stable/)_ recipes and scripts for functional workflows.\n",
    "3. How to pass [job metadata](https://docs.signac.io/projects/core/en/latest/api.html#the-job-class) to a simulation process.\n",
    "4. _[HOOMD-blue](https://hoomd-blue.readthedocs.io/en/v4.1.0/)_ simulations.\n",
    "5. Data processing with _[Freud](https://freud.readthedocs.io/en/latest/)_.\n",
    "\n",
    "## Tutorial Contents\n",
    "0. Google Colab Setup and import packages\n",
    "1. Initialize _Signac_ `Project`\n",
    "    1. Exercise 1. Adding project jobs by statepoints\n",
    "    \n",
    "2. Generate _mBuild_ Structures\n",
    "    1. Exercise 2. Pack water at higher initial density\n",
    "    \n",
    "3. Apply Force Fields\n",
    "    1. Exercise 3a. Identify bondtype and angletype expressions used.\n",
    "    1. Exercise 3b. Determine the number of unique bond types used.\n",
    "    \n",
    "4. Run _HOOMD-blue_ Simulations\n",
    "\n",
    "5. Analyze/Record Results\n",
    "    1. Exercise 5. Load data into [_MDAnalysis_](https://www.mdanalysis.org/)\n",
    "\n",
    "### Software Stack Setup\n",
    "After running the cell below the kernel will restart -- This is necessary for conda dependencies, but you'll need to wait for that kernel restart before running the second cell. Expect this to take about 5 minutes.\n",
    "\n",
    "### Working with Google Colab\n",
    "There are two types of output in these Colab notebooks that can be a little tricky:\n",
    "\n",
    "1. If the output is very long, for example from the mamba command in the second cell, scrolling past the output can feel onerous. In this case, scrolling up and down in the narrow grey area between the sidebar menu and the cells can help you navigate.\n",
    "2. If the output is a visualization of a molecule or simulation configuration, scrolling up or down will zoom in or out if the cursor is over the visualization. In these cases, take some care to scroll outside of the visualization.\n",
    "3. To run a cell, either click the run button (right facing triangle) or hit shift + enter\n"
   ]
  },
  {
   "cell_type": "markdown",
   "id": "891fad72",
   "metadata": {
    "id": "891fad72"
   },
   "source": [
    "## 0. Google Colab Setup\n",
    "---\n",
    "Run the two next panes only if you are using Google Collab for this notebook."
   ]
  },
  {
   "cell_type": "code",
   "execution_count": null,
   "id": "iQ5tzRXZd-tG",
   "metadata": {
    "id": "iQ5tzRXZd-tG"
   },
   "outputs": [],
   "source": [
    "# Note: Run this cell first and by itself.\n",
    "# The kernel will be restarted after this step. Rerun this cell if that happens.\n",
    "# There might be an error pops up stating the session crashed\n",
    "# for an unknown reason, but that is expected. You do not have to rerun in that case.\n",
    "\n",
    "!pip install -q condacolab\n",
    "import condacolab\n",
    "condacolab.install_miniforge()"
   ]
  },
  {
   "cell_type": "code",
   "execution_count": null,
   "id": "2ddbcf1a",
   "metadata": {
    "id": "2ddbcf1a"
   },
   "outputs": [],
   "source": [
    "# import condacolab\n",
    "# condacolab.check()\n",
    "\n",
    "!conda install mamba\n",
    "!mamba install mbuild foyer hoomd gsd signac mdanalysis freud py3dmol fresnel openbabel gmso freud\n",
    "\n",
    "!git clone https://github.com/kierannp/surface_coatings.git\n",
    "%cd surface_coatings\n",
    "!git fetch origin colab-installation\n",
    "!git checkout colab-installation\n",
    "!pip install .\n",
    "%cd ..\n",
    "!git clone https://github.com/mosdef-hub/FOMMS-MoSDeF-Workshop.git\n",
    "%cd FOMMS-MoSDeF-Workshop/workflows/solvated_surface_workflow/\n",
    "!pwd"
   ]
  },
  {
   "cell_type": "markdown",
   "id": "3b85cd0a",
   "metadata": {
    "id": "3b85cd0a"
   },
   "source": [
    "## 0. Import packages\n",
    "---"
   ]
  },
  {
   "cell_type": "code",
   "execution_count": null,
   "id": "681d652e",
   "metadata": {
    "id": "681d652e"
   },
   "outputs": [],
   "source": [
    "# Import Libraries\n",
    "import itertools\n",
    "import os\n",
    "\n",
    "import signac\n",
    "import mbuild as mb\n",
    "import gmso\n",
    "from gmso.parameterization import apply\n",
    "import gsd\n",
    "import unyt as u\n",
    "import numpy as np\n",
    "\n",
    "from surface_coatings.monolayer import Monolayer\n",
    "from surface_coatings.solvated_monolayer import SolvatedMonolayer\n",
    "from surface_coatings.surfaces.silica_interface import SilicaInterface\n",
    "from surface_coatings.surfaces.silica_interface_carve import SilicaInterfaceCarve\n",
    "from surface_coatings.chains.alkylsilane import Alkylsilane\n",
    "\n",
    "import warnings\n",
    "warnings.filterwarnings(\"ignore\")"
   ]
  },
  {
   "cell_type": "markdown",
   "id": "a4a8c647",
   "metadata": {
    "id": "a4a8c647"
   },
   "source": [
    "## 1. Initialize Signac Project\n",
    "---\n",
    "From the _Signac_ Documentation:\n",
    "\"The signac framework supports researchers in managing project-related data with a well-defined indexable storage layout for data and metadata. This streamlines post-processing and analysis and makes data collectively accessible. The signac framework aims to help make computational research projects Transparent, Reproducible, Usable by others, and Extensible (TRUE) [TGM+20], a set of principles put forth by the MoSDeF Collaboration [CMI+21].\"</br></br>\n",
    "\n",
    "<figure>\n",
    "    <img src=\"https://github.com/CalCraven/CECAM-MoSDeF-Workshop/blob/solvated-surface-wkflw/images/signac.png?raw=1\" alt=\"Signac Framework replicated from https://doi.org/10.1016/j.commatsci.2018.01.035\" width=\"700\"/>\n",
    "    <figcaption><center>\"Signac Graphical Abstract (Adorf et al. 2017 10.1016/j.commatsci.2018.01.035)\"</center>\n",
    "    </figcaption>\n",
    "</figure>\n",
    "\n",
    "\n",
    "We will use _Signac_ to define some project parameters. The parameters are stored in the _Signac_ `job` class that are operated on in the study. The following function, `grid`, is a standard way to generate all combinations of each statepoint key-value pairs, defined in the dictionary variable `sp_gridDict`.\n",
    "\n",
    "- Run the following cell and evaluate the `project` that is generated."
   ]
  },
  {
   "cell_type": "code",
   "execution_count": null,
   "id": "d83458ac",
   "metadata": {
    "id": "d83458ac"
   },
   "outputs": [],
   "source": [
    "def grid(gridspec):\n",
    "    \"\"\"Yields the Cartesian product of a `dict` of iterables.\n",
    "\n",
    "    The input ``gridspec`` is a dictionary whose keys correspond to\n",
    "    parameter names. Each key is associated with an iterable of the\n",
    "    values that parameter could take on. The result is a sequence of\n",
    "    dictionaries where each dictionary has one of the unique combinations\n",
    "    of the parameter values.\n",
    "    \"\"\"\n",
    "    for values in itertools.product(*gridspec.values()):\n",
    "        yield dict(zip(gridspec.keys(), values))\n",
    "\n",
    "project = signac.init_project(\"./solvated_surface_project\") # name and path of project\n",
    "# generate statepoints:\n",
    "sp_gridDict = {\n",
    "    \"water_model\":[\"spce\", \"tip3p\"], # forcefield to use\n",
    "    \"temperature\":[298.15],  # K\n",
    "    \"chain_density\":[3], # chains/nm\n",
    "    \"chain_length\":[4], # n_carbons\n",
    "    \"solvent_box_height\": [2], #nm\n",
    "    \"seed\":[314159], # for random configurations\n",
    "}\n",
    "\n",
    "for sp in grid(sp_gridDict):\n",
    "    print(\"Initializing job\", sp)\n",
    "    project.open_job(sp).init()\n",
    "project"
   ]
  },
  {
   "cell_type": "markdown",
   "id": "e5d44eba",
   "metadata": {
    "id": "e5d44eba"
   },
   "source": [
    "Initializing the `project` generates a local directory to store information generated by the workflow. Here are a list of some of the files."
   ]
  },
  {
   "cell_type": "code",
   "execution_count": null,
   "id": "c6476ec3",
   "metadata": {
    "id": "c6476ec3"
   },
   "outputs": [],
   "source": [
    "!ls -a solvated_surface_project/"
   ]
  },
  {
   "cell_type": "markdown",
   "id": "963cc49c",
   "metadata": {
    "id": "963cc49c"
   },
   "source": [
    "The workspace is a directory where the individual jobs that were initialized above are stored. These are differentiated by unique hashes generated from each statepoint so there's no risk of accidentally overwriting data from alternative jobs.\n",
    "\n",
    "Let's look at the `signac_statepoint.json` file in one of our jobs."
   ]
  },
  {
   "cell_type": "code",
   "execution_count": null,
   "id": "08d60ece",
   "metadata": {
    "id": "08d60ece"
   },
   "outputs": [],
   "source": [
    "!cat solvated_surface_project/workspace/abc17508672efbf5f8b8afd4ad096ab8/signac_statepoint.json"
   ]
  },
  {
   "cell_type": "markdown",
   "id": "16c05695",
   "metadata": {
    "id": "16c05695"
   },
   "source": [
    "Nice work! You should see something that looks like a python dictionary with all of the information that was passed in the above cells. For more information on how to access this job metadata, see the following [_Signac_ tutorials.](https://docs.signac.io/en/latest/tutorial.html#interacting-with-the-signac-project)"
   ]
  },
  {
   "cell_type": "markdown",
   "id": "d11fe436",
   "metadata": {
    "id": "d11fe436"
   },
   "source": [
    "## Exercise 1: Try to add a new job to the workspace.\n",
    "Choose:\n",
    "- Temperature of 310 K\n",
    "- 3 chains/nm\\*\\*2\n",
    "- 15 carbon chain length.\n",
    "\n",
    "Validate that the `job` directory is added properly.\n"
   ]
  },
  {
   "cell_type": "code",
   "execution_count": null,
   "id": "5dc72407",
   "metadata": {
    "id": "5dc72407"
   },
   "outputs": [],
   "source": [
    "project = signac.get_project(\"./solvated_surface_project/\")\n",
    "jobSP = { #initialize a dictionary statepoint\n",
    "    \"water_model\":\"spce\", # forcefield to use\n",
    "    \"temperature\":???,  # K\n",
    "    \"chain_density\":???, # chains/nm**2\n",
    "    \"chain_length\":???, # n_carbons\n",
    "    \"solvent_box_height\": 2, #nm\n",
    "    \"seed\":42901423,\n",
    "}\n",
    "project.???.????() # open and initialize the jobSP dictionary you made\n",
    "project # how many jobs are there now?"
   ]
  },
  {
   "cell_type": "markdown",
   "id": "fb034584",
   "metadata": {
    "id": "fb034584"
   },
   "source": [
    "### <font color=\"red\"><b>Exercise 1 Answer</b></font>\n",
    "\n",
    "<details>\n",
    "  <summary>Click once to hide/unhide the answer!</summary>\n",
    "\n",
    "    project = signac.get_project(\"./solvated_surface_project/\")\n",
    "    jobSP = { #initialize a dictionary statepoint\n",
    "        \"water_model\":\"spce\", # forcefield to use\n",
    "        \"temperature\":310,  # K\n",
    "        \"chain_density\":3, # chains/nm**2\n",
    "        \"chain_length\":15, # n_carbons\n",
    "        \"solvent_box_height\": 2, #nm\n",
    "        \"seed\":42901423,\n",
    "    }\n",
    "    project.open_job(jobSP).init()\n",
    "    project\n",
    "\n",
    "</details>"
   ]
  },
  {
   "cell_type": "markdown",
   "id": "7b68e4f4",
   "metadata": {
    "id": "7b68e4f4"
   },
   "source": [
    "## 2. Generate mBuild Structures\n",
    "---\n",
    "\n",
    "Next we will use _mBuild_ (which you're already an expert in) to build up the individual components of our surface. The key components in this hierarchical structure are:\n",
    "- The surface, made from silica. This will be loaded via premade recipe in the [coated_surfaces](https://github.com/daico007/surface_coatings/tree/main) repository.\n",
    "- The chains to attach to the surface. These are alkylsilane chains, built using the [Polymer Builder](https://github.com/mosdef-hub/mbuild/blob/main/mbuild/lib/recipes/polymer.py) recipe in `mBuild`.\n",
    "- The water atoms, which are simple three site HOH molecules, made from the [SMILES string](https://www.daylight.com/dayhtml/doc/theory/theory.smiles.html)."
   ]
  },
  {
   "cell_type": "code",
   "execution_count": null,
   "id": "7bf5f9ef",
   "metadata": {
    "id": "7bf5f9ef"
   },
   "outputs": [],
   "source": [
    "job_compoundDict = {} # dictionary to store job compounds\n",
    "\n",
    "# load the water\n",
    "water = mb.load(\"O\", smiles=True)\n",
    "water.name = \"water\"\n",
    "solvent_density = 0.35 * u.g/u.cm**3 # calculate density in g/cm^3\n",
    "atomic_density = solvent_density / (u.amu.to(\"g\")) / water.mass # convert density to atoms/nm^3\n",
    "print(f\"Water density is: {atomic_density.to('nm**-3'):.0f}\")\n",
    "\n",
    "for job in project: #iterate over all jobs using a simple for loop on the `project`\n",
    "    print(f\"Building up surfaces for job:{job.id}. Run time is about 3 minutes for each job with energy minimization (see commented out code below).\")\n",
    "    chain = Alkylsilane(chain_length=job.sp.chain_length) #create a chain\n",
    "    surface = SilicaInterfaceCarve(thickness=1.2)\n",
    "    surface_area = surface.box.Lx * surface.box.Ly\n",
    "    n_chains=int(job.sp.chain_density*surface_area)\n",
    "    graft_pattern = mb.Random2DPattern(n_chains, seed=job.sp.seed)\n",
    "    monolayer = Monolayer(surface=surface, pattern=graft_pattern, chains=chain, n_chains=n_chains)\n",
    "    monolayer.name = \"surface\" # set the name for later atomtyping\n",
    "    n_waters = int(surface_area*job.sp.solvent_box_height*atomic_density.to(\"nm**-3\").value)\n",
    "    print(f\"Adding {n_waters:d} waters to the system.\")\n",
    "    solvated_monolayer = SolvatedMonolayer(\n",
    "        monolayer=monolayer, solvent=water,\n",
    "        n_solvents=n_waters, solvent_box_height=job.sp.solvent_box_height)\n",
    "    print(f\"Currently Energy minimizing, \\n  - expect to take ~5 min  or comment out next 5 lines of code.\")\n",
    "    children = [surface] # fix surface\n",
    "    import time\n",
    "    start = time.perf_counter()\n",
    "    solvated_monolayer.energy_minimize(fixed_compounds=children, steps=100) # relax chains and water\n",
    "    print(f\"Energy minimized structure using UFF in {int(time.perf_counter()-start):d}s\\n\\n\")\n",
    "    job_compoundDict[job] = { # store the saved components for visualization\n",
    "        \"water\":water,\n",
    "        \"chain\": chain,\n",
    "        \"surface\":surface,\n",
    "        \"solvated_monolayer\":solvated_monolayer\n",
    "    }\n"
   ]
  },
  {
   "cell_type": "markdown",
   "id": "2e0f2b1d",
   "metadata": {
    "id": "2e0f2b1d"
   },
   "source": [
    "Let's visualize the monolayer that was built."
   ]
  },
  {
   "cell_type": "code",
   "execution_count": null,
   "id": "3e7b8d53",
   "metadata": {
    "id": "3e7b8d53"
   },
   "outputs": [],
   "source": [
    "solvated_monolayer.visualize()"
   ]
  },
  {
   "cell_type": "markdown",
   "id": "900860a0",
   "metadata": {
    "id": "900860a0"
   },
   "source": [
    "## Exercise 2: Increase the water packing density.\n",
    "Try to pack the water at a higher density. Find the line\n",
    "`solvent_density = 0.35 * u.g/u.cm**3 # g/cm^3`\n",
    "and replace `0.35` with `0.99` for a better packed system. **Note that this will take longer to pack at higher densities.**\n",
    "\n",
    "Also, there looks like there's a gap in between the water box and the top of the surface. Fix that by adding\n",
    "\n",
    "\n",
    "`solvated_monolayer.children[1].translate([0,0,-0.3])`\n",
    "\n",
    "\n",
    "To move just the water molecules down by 0.3 nm. This should be added after the line\n",
    "\n",
    "\n",
    "`solvated_monolayer = SolvatedMonolayer(monolayer=monolayer, solvents=water, n_solvents=n_waters, solvet_box_height=job.sp.solvent_box_height)`"
   ]
  },
  {
   "cell_type": "markdown",
   "id": "f99ecdda",
   "metadata": {
    "id": "f99ecdda"
   },
   "source": [
    "### <font color=\"red\"><b>Exercise 2 Answer</b></font>\n",
    "<details>\n",
    "  <summary>Click once to hide/unhide the answer!</summary>\n",
    "\n",
    "    job_compoundDict = {} # dictionary to store job compounds\n",
    "\n",
    "    # load the water\n",
    "    water = mb.load(\"O\", smiles=True)\n",
    "    water.name = \"water\"\n",
    "    solvent_density = 0.99 * u.g/u.cm**3 # calculate density in g/cm^3 <------- ADDED CODE HERE\n",
    "    atomic_density = solvent_density / (u.amu.to(\"g\")) / water.mass # convert density to atoms/nm^3\n",
    "    print(f\"Water density is: {atomic_density.to('nm**-3'):.0f}\")\n",
    "\n",
    "    for job in project: #iterate over all jobs using a simple for loop on the `project`\n",
    "        print(f\"Building up surfaces for job:{job.id}. Run time is about 3 minutes for each job with energy minimization (see commented out code below).\")\n",
    "        chain = Alkylsilane(chain_length=job.sp.chain_length) #create a chain\n",
    "        surface = SilicaInterfaceCarve(thickness=1.2)\n",
    "        surface_area = surface.box.Lx * surface.box.Ly\n",
    "        n_chains=int(job.sp.chain_density*surface_area)\n",
    "        graft_pattern = mb.Random2DPattern(n_chains, seed=job.sp.seed)\n",
    "        monolayer = Monolayer(surface=surface, pattern=graft_pattern, chains=chain, n_chains=n_chains)\n",
    "        monolayer.name = \"surface\" # set the name for later atomtyping\n",
    "        n_waters = int(surface_area*job.sp.solvent_box_height*atomic_density.to(\"nm**-3\").value)\n",
    "        print(f\"Adding {n_waters:d} waters to the system.\")\n",
    "        solvated_monolayer = SolvatedMonolayer(\n",
    "            monolayer=monolayer, solvent=water,\n",
    "            n_solvents=n_waters, solvent_box_height=job.sp.solvent_box_height)\n",
    "        solvated_monolayer.children[1].translate([0,0,-0.3]) # <----------- ADDED CODE HERE\n",
    "        #print(f\"Currently Energy minimizing, \\n  - expect to take ~12 min  or comment out next 5 lines of code.\")\n",
    "        #children = [surface] # fix surface\n",
    "        #import time\n",
    "        #start = time.perf_counter()\n",
    "        #solvated_monolayer.energy_minimize(fixed_compounds=children, steps=500) # relax chains and water\n",
    "        #print(f\"Energy minimized structure using UFF in {int(time.perf_counter()-start):d}s\\n\\n\")\n",
    "        job_compoundDict[job] = { # store the saved components for visualization\n",
    "            \"water\":water,\n",
    "            \"chain\": chain,\n",
    "            \"surface\":surface,\n",
    "            \"solvated_monolayer\":solvated_monolayer\n",
    "        }\n",
    "     \n",
    "</details>"
   ]
  },
  {
   "cell_type": "markdown",
   "id": "8bd6f9a5",
   "metadata": {
    "id": "8bd6f9a5"
   },
   "source": [
    "## 3. Apply Force Fields\n",
    "---\n",
    "\n",
    "We must now use force fields that define the potential equations of this system. The force fields are stored on disk as XML files. These define all of the forces needed for the simulation. Multiple force fields can be applied to different molecules in the _mBuild_ `compound` but be certain that these force fields are compatible (i.e. same mixing rule, 1-4 scaling, cutoffs). Also, while these force fields are stored in a generalized format, not all simulation engines can support all force field types, so keep that in mind when selecting a force field to use.\n",
    "\n",
    "- We can iterate through the `jobs`, grab the `solvated_surface`, load the water force field specified in `job.sp.water_model` from the `xmls/` directory in this project, and create our parameterized _GMSO_ `Topology`.\n",
    "\n",
    "- First though, let's glance at the syntax for the `apply` step."
   ]
  },
  {
   "cell_type": "code",
   "execution_count": null,
   "id": "0760793c",
   "metadata": {
    "id": "0760793c",
    "scrolled": false
   },
   "outputs": [],
   "source": [
    "from gmso.parameterization import apply\n",
    "help(apply)"
   ]
  },
  {
   "cell_type": "markdown",
   "id": "b12174a9",
   "metadata": {
    "id": "b12174a9"
   },
   "source": [
    "- You should see that the `forcefields` argument can be passed as a dictionary. Since we added the names `water` and `surface` to the _mBuild_ `comopounds` we generated above, these labels are present and allow us to specify which component of the `topology` will be matched to each forcefield.\n",
    "\n",
    "- Now let's apply the [OPLS-AA force field](https://pubs.acs.org/doi/10.1021/ja9621760) to the surface and the specified water force field from the `job.sp.water_model`."
   ]
  },
  {
   "cell_type": "code",
   "execution_count": null,
   "id": "e02b9362",
   "metadata": {
    "id": "e02b9362"
   },
   "outputs": [],
   "source": [
    "surfaceFF = gmso.ForceField(\"xmls/oplsaa.xml\") # load a general opls all atom forcefield from the directory\n",
    "\n",
    "for job in project:\n",
    "    ff_path = os.path.join(\"xmls\", job.sp.water_model+\".xml\")\n",
    "    waterFF = gmso.ForceField(ff_path)\n",
    "    top = job_compoundDict[job][\"solvated_monolayer\"].to_gmso()\n",
    "    top.identify_connections() # generate bonds, angles, and dihedrals\n",
    "    import time\n",
    "    start = time.perf_counter()\n",
    "    parameterized_top = apply(\n",
    "        top, forcefields={\"surface\": surfaceFF, \"water\":waterFF}, # matching dictionary to compound labels\n",
    "        remove_untyped=True\n",
    "    )\n",
    "    print(\n",
    "        f\"It took {time.perf_counter()-start:.2f}s to parameterize {top.n_sites} sites \"\n",
    "        + f\"and {top.n_connections} connections.\"\n",
    "    )\n",
    "    job_compoundDict[job][\"parameterized_top\"] = parameterized_top\n",
    "\n",
    "parameterized_top"
   ]
  },
  {
   "cell_type": "markdown",
   "id": "28382868",
   "metadata": {
    "id": "28382868"
   },
   "source": [
    "## Exercise 3a: Identify the aspectes of the parameterized topology\n",
    "What is the bonded equation that is being used from both of our forcefields?\n",
    "\n",
    "To identify this, we need to interrogate the `parameterized_topology` object. Components are stored in IndexedSets. These can be accessed via list indexing."
   ]
  },
  {
   "cell_type": "code",
   "execution_count": null,
   "id": "307ae576",
   "metadata": {
    "id": "307ae576"
   },
   "outputs": [],
   "source": [
    "parameterized_top.bonds[?].???_type.expression # access index 0 and print then access the bond_type.expression\n",
    "# this can also be done with angles, dihedrals, and impropers"
   ]
  },
  {
   "cell_type": "markdown",
   "id": "56268e65",
   "metadata": {
    "id": "56268e65"
   },
   "source": [
    "### <font color=\"red\"><b>Exercise 3a Answer</b></font>\n",
    "\n",
    "<details>\n",
    "  <summary>Click once to hide/unhide the answer!</summary>\n",
    "\n",
    "    parameterized_top.bonds[0].bond_type.expression # access index 0 and print then access the bond_type.expression\n",
    "    # this can also be done with angles, dihedrals, and impropers\n",
    "    parameterized_top.angles[0].angle_type.expression\n",
    "    # Answer should look something like this:\n",
    "    # 0.5𝑘(𝑟−𝑟𝑒𝑞)2\n",
    "</details>"
   ]
  },
  {
   "cell_type": "markdown",
   "id": "b3df7d10",
   "metadata": {
    "id": "b3df7d10"
   },
   "source": [
    "## Exercise 3b: What is the number of unique bond types in the topology?\n",
    "\n",
    "To identify that, use a filter to look for bond_types with a unique pair of atom classes\n",
    "\n",
    "- Potential filters allow the user to specify what is `unique` about the type. These give a flexible set of methods to get the unique types in the system. For instance, there may be a set with unique parameters. Maybe you want to look at the set with unique full potential expressions. In this case, we will sort by the `unique names of the atom classes` that make up the bonded atoms."
   ]
  },
  {
   "cell_type": "code",
   "execution_count": null,
   "id": "754c2162",
   "metadata": {
    "id": "754c2162"
   },
   "outputs": [],
   "source": [
    "from gmso.core.views import PotentialFilters\n",
    "\n",
    "pfilter = PotentialFilters.UNIQUE_NAME_CLASS\n",
    "print(f\"There are {len(parameterized_top.bond_types(filter_by=???????))} uniquely named bond types\")\n",
    "display(PotentialFilters.__dict__) # try a different filter from the PotentialFilters class"
   ]
  },
  {
   "cell_type": "markdown",
   "id": "nMjrrWa_wHw5",
   "metadata": {
    "id": "nMjrrWa_wHw5"
   },
   "source": [
    "### <font color=\"red\"><b>Exercise 3b Answer</b></font>\n",
    "<details>\n",
    "  <summary>Click once to hide/unhide the answer!</summary>\n",
    "  \n",
    "    from gmso.core.views import PotentialFilters\n",
    "\n",
    "    pfilter = PotentialFilters.UNIQUE_NAME_CLASS\n",
    "    print(f\"There are {len(parameterized_top.bond_types(filter_by=???????))} uniquely named bond types\")\n",
    "    display(PotentialFilters.__dict__) # try a different filter from the PotentialFilters class\n",
    "</details>"
   ]
  },
  {
   "cell_type": "markdown",
   "id": "29580c61",
   "metadata": {
    "id": "29580c61"
   },
   "source": [
    "## 4. Run _HOOMD-blue_ Simulations\n",
    "---\n",
    "\n",
    "Now let's run our [_HOOMD-blue_](https://hoomd-blue.readthedocs.io/en/v4.1.0/) simulations for each job. We create a generalized `run_hoomd` function here which accepts whatever we write out from the _GMSO_ `Topology` `parameterized_top`.\n",
    "\n",
    "- Generate the input structures to _hoomd_, the snapshot and the forcefield.\n",
    "- Run a short example simulation\n",
    "- \\*\\*It's noted that a longer simulation procedure is also provided, but will not be run as part of this tutorial as the simulation needs to be run on HPC. However, an output trajectory from such a simulation is provided for data analysis."
   ]
  },
  {
   "cell_type": "code",
   "execution_count": null,
   "id": "89d45b8a",
   "metadata": {
    "id": "89d45b8a",
    "scrolled": true
   },
   "outputs": [],
   "source": [
    "from gmso.external import to_hoomd_snapshot, to_hoomd_forcefield\n",
    "import hoomd\n",
    "import numpy as np\n",
    "\n",
    "\"\"\"Simulation configuration and runtime parameters.\"\"\"\n",
    "job = project.open_job(id=\"abc17508672efbf5f8b8afd4ad096ab8\")\n",
    "\n",
    "base_units = { # this unit sytems lets hoomd non-dimensionalize all parameters in the forcefield\n",
    "    \"mass\": u.g / u.mol,\n",
    "    \"length\": u.nm,\n",
    "    \"energy\": u.kJ / u.mol,\n",
    "}\n",
    "\n",
    "top = job_compoundDict[job][\"parameterized_top\"]\n",
    "\n",
    "gmso_snapshot, snapshot_base_units = to_hoomd_snapshot(\n",
    "    top, base_units=base_units\n",
    ")\n",
    "gmso_forces, forces_base_units = to_hoomd_forcefield(\n",
    "    top,\n",
    "    r_cut=1.2, #u.nm\n",
    "    base_units=base_units,\n",
    "    pppm_kwargs={\"resolution\": (64,64,64), \"order\": 7},\n",
    ")"
   ]
  },
  {
   "cell_type": "code",
   "execution_count": null,
   "id": "afc4cd4f",
   "metadata": {
    "id": "afc4cd4f"
   },
   "outputs": [],
   "source": [
    "from hoomd_runners import example_run\n",
    "job = project.open_job(id=\"abc17508672efbf5f8b8afd4ad096ab8\")\n",
    "top = job_compoundDict[job][\"parameterized_top\"]\n",
    "example_run(job, top, gmso_snapshot, gmso_forces, dt=0.0001)"
   ]
  },
  {
   "cell_type": "markdown",
   "id": "e864eb6a",
   "metadata": {
    "id": "e864eb6a"
   },
   "source": [
    "To run the full simulation, change the cell below to code and execute it. This will not execute without the surface minimization step commented out when building the monolayers in _mBuild_. </br>\n",
    "**\\*\\*Note that this will be a long simulation (~15 hours) if run on Google Colab or locally.**"
   ]
  },
  {
   "cell_type": "markdown",
   "id": "3e040586",
   "metadata": {
    "id": "3e040586"
   },
   "source": [
    "```python\n",
    "from hoomd_runners import nvt_run\n",
    "\"\"\"\n",
    "## Please uncomment out the energy minimization lines in the above cells\n",
    "## when building the jobs to ensure the initial state is low enough energy\n",
    "# NOT HERE, RUN THESE NEXT 3 LINES ABOVE\n",
    "# children = [surface] # fix surface\n",
    "# solvated_monolayer.energy_minimize(fixed_compounds=children) # relax chains and water\n",
    "# print(f\"Energy minimized structure using UFF\")\n",
    "\"\"\"\n",
    "job = project.open_job(id=\"64449306e141308096f2860598c7990a\") # pick a job to run, or loop over jobs in project\n",
    "top = job_compoundDict[job][\"parameterized_top\"]\n",
    "base_units = { # this unit sytems lets hoomd non-dimensionalize all parameters in the forcefield\n",
    "    \"mass\": u.g / u.mol,\n",
    "    \"length\": u.nm,\n",
    "    \"energy\": u.kJ / u.mol,\n",
    "}\n",
    "\n",
    "gmso_snapshot, snapshot_base_units = to_hoomd_snapshot(\n",
    "    top, base_units=base_units\n",
    ")\n",
    "gmso_forces, forces_base_units = to_hoomd_forcefield(\n",
    "    top,\n",
    "    r_cut=0.6,\n",
    "    base_units=base_units,\n",
    "    pppm_kwargs={\"resolution\": (64,64,64), \"order\": 7},\n",
    ")\n",
    "nvt_run(job, top, gmso_snapshot, gmso_forces)\n",
    "```"
   ]
  },
  {
   "cell_type": "markdown",
   "id": "9c9e33b8",
   "metadata": {
    "id": "9c9e33b8"
   },
   "source": [
    "## 5. Analyze/Record Results\n",
    "---\n",
    "\n",
    "- Plot the simulation energies.\n",
    "- View the trajectory."
   ]
  },
  {
   "cell_type": "code",
   "execution_count": null,
   "id": "20ed25a9",
   "metadata": {
    "id": "20ed25a9"
   },
   "outputs": [],
   "source": [
    "import gsd.hoomd\n",
    "sample_project = signac.get_project(\"./sample-project\")\n",
    "job = sample_project.open_job(id=\"abc17508672efbf5f8b8afd4ad096ab8\") # pick the id of the job you would want to test\n",
    "\n",
    "data = gsd.hoomd.read_log(job.fn(\"trajectory-nvt.gsd\"))\n",
    "timestep = data['configuration/step']\n",
    "potential_energy = data[\n",
    "    'log/md/compute/ThermodynamicQuantities/potential_energy' # TODO: data won't load, error in gsd writing\n",
    "]\n",
    "\n",
    "import matplotlib.pyplot as plt\n",
    "fig, ax = plt.subplots(1, 1, figsize=(5, 3))\n",
    "ax.plot(timestep, potential_energy)\n",
    "ax.set_xlabel(r'Timestep ($fs$)')\n",
    "ax.set_ylabel(r'Potential energy ($kj/mol$)')\n",
    "fig.show()"
   ]
  },
  {
   "cell_type": "markdown",
   "id": "5ce3baba",
   "metadata": {
    "id": "5ce3baba"
   },
   "source": [
    "View the trajectory using [_Fresnel_](https://fresnel.readthedocs.io/en/latest/). Alternative methods to open a `HOOMD-blue` trajectory are [_VMD_](https://github.com/mphowardlab/gsd-vmd) (via plugin) or [_Ovito_](https://www.ovito.org/about/) (native support), or write out .DCD files during the simulation."
   ]
  },
  {
   "cell_type": "code",
   "execution_count": null,
   "id": "7b90e1aa",
   "metadata": {
    "id": "7b90e1aa"
   },
   "outputs": [],
   "source": [
    "# view the trajectory\n",
    "sample_project = signac.get_project(\"./sample-project\")\n",
    "job = sample_project.open_job(id=\"abc17508672efbf5f8b8afd4ad096ab8\")\n",
    "traj = gsd.hoomd.open(job.fn(\"trajectory-nvt.gsd\"))\n",
    "\n",
    "from hoomd_runners import render_movie\n",
    "render_movie(traj, job) # pass in indices=np.arange(0, 3600) to see surface only"
   ]
  },
  {
   "cell_type": "markdown",
   "id": "800faedf",
   "metadata": {
    "id": "800faedf"
   },
   "source": [
    "## Exercise 5.\n",
    "Load the trajectories into _MDAnalysis_. Simulation analysis is then accessible for the trajectory.\n",
    "- MDAnalysis uses a .gsd file for the trajectory.\n",
    "- It can take a .gro file for the topology.\n",
    "- Other details on loading an [_MDAnalysis_](https://userguide.mdanalysis.org/stable/reading_and_writing.html) `Universe` can be found here."
   ]
  },
  {
   "cell_type": "code",
   "execution_count": null,
   "id": "964a95f0",
   "metadata": {
    "id": "964a95f0"
   },
   "outputs": [],
   "source": [
    "from MDAnalysis import Universe\n",
    "\n",
    "sample_project.????_???(id=\"9a2a12d8920bfc96dbb933bea2ee9b81\") #load the job\n",
    "# in this case, a gro file is nice to have for the analysis.\n",
    "# This can always be written by using parameterized_top.save(job.fn(\"init.gro\"))\n",
    "universe = Universe(job.??(\"trajectory-nvt.gsd\"), top=job.??(\"init.gro\")) # use the fn to grab files in the job\n",
    "universe.trajectory # view the universe trajectory"
   ]
  },
  {
   "cell_type": "markdown",
   "id": "9967d089",
   "metadata": {
    "id": "9967d089"
   },
   "source": [
    "### <font color=\"red\"><b>Exercise 5 Answer</b></font>\n",
    "<details>\n",
    "  <summary>Click once to hide/unhide the answer!</summary>\n",
    "  \n",
    "    from MDAnalysis import Universe\n",
    "    sample_project.open_job(id=\"9a2a12d8920bfc96dbb933bea2ee9b81\") #load the job\n",
    "    # in this case, a gro file is nice to have for the analysis.\n",
    "    # This can always be written by using parameterized_top.save(job.fn(\"init.gro\"))\n",
    "    universe = Universe(job.fn(\"trajectory-nvt.gsd\"), top=job.fn(\"init.gro\")) # use the fn to grab files in the job\n",
    "    universe.trajectory # view the universe trajectory\n",
    "</details>"
   ]
  }
 ],
 "metadata": {
  "colab": {
   "provenance": []
  },
  "kernelspec": {
   "display_name": "Python 3 (ipykernel)",
   "language": "python",
   "name": "python3"
  },
  "language_info": {
   "codemirror_mode": {
    "name": "ipython",
    "version": 3
   },
   "file_extension": ".py",
   "mimetype": "text/x-python",
   "name": "python",
   "nbconvert_exporter": "python",
   "pygments_lexer": "ipython3",
   "version": "3.8.19"
  }
 },
 "nbformat": 4,
 "nbformat_minor": 5
}
